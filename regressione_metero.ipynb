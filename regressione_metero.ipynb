{
 "cells": [
  {
   "cell_type": "code",
   "execution_count": 1,
   "id": "b44388b6",
   "metadata": {},
   "outputs": [],
   "source": [
    "import numpy as np\n",
    "import pandas as pd\n",
    "import matplotlib.pyplot as plt\n",
    "from sklearn.linear_model import LinearRegression"
   ]
  },
  {
   "cell_type": "code",
   "execution_count": 17,
   "id": "de6c7ca4",
   "metadata": {},
   "outputs": [],
   "source": [
    "data=pd.read_csv('./MonthElb_012010_004028900.csv',header=None,names=['Data','Ora','Id','Comune',\n",
    "                                                                      'Num', 'VelVento','DirVento',\n",
    "                                                                     'DeviazStanVento','Press','TempAria',\n",
    "                                                                     'Umidita','RadiazSolarDiretta','RadiazSolarRif',\n",
    "                                                                     'Pioggia'], na_values=9999.9)\n"
   ]
  },
  {
   "cell_type": "code",
   "execution_count": 15,
   "id": "8cf71bde",
   "metadata": {},
   "outputs": [],
   "source": [
    "date=data[\"Data\"]\n",
    "months=[]\n",
    "for data in date:\n",
    "    months.append(int(data[3:5]))"
   ]
  },
  {
   "cell_type": "code",
   "execution_count": 18,
   "id": "73f9860a",
   "metadata": {},
   "outputs": [],
   "source": [
    "ore=data[\"Ora\"]\n",
    "list_ore=[]\n",
    "for ora in ore:\n",
    "    list_ore.append(int(ora[3:5]))"
   ]
  },
  {
   "cell_type": "code",
   "execution_count": 19,
   "id": "ec371932",
   "metadata": {},
   "outputs": [],
   "source": [
    "array_months=np.array(months)\n",
    "array_ore=np.array(list_ore)"
   ]
  },
  {
   "cell_type": "code",
   "execution_count": 20,
   "id": "b33dceef",
   "metadata": {},
   "outputs": [],
   "source": [
    "data[\"mese\"]=array_months\n",
    "data[\"ora\"]=array_ore\n"
   ]
  },
  {
   "cell_type": "code",
   "execution_count": 21,
   "id": "7be56439",
   "metadata": {},
   "outputs": [],
   "source": [
    "data_puliti=data[[\"VelVento\",\"Press\", \"DirVento\", \"Umidita\", \"Pioggia\", \"mese\", \"ora\",\"TempAria\"]].dropna()\n",
    "\n",
    " "
   ]
  },
  {
   "cell_type": "code",
   "execution_count": 22,
   "id": "859c2ec2",
   "metadata": {},
   "outputs": [
    {
     "name": "stdout",
     "output_type": "stream",
     "text": [
      "\n",
      "coefficiente di detrminazione R^2: 0.27\n",
      "\n",
      "\n",
      "\n"
     ]
    }
   ],
   "source": [
    "X=data_puliti[[\"VelVento\",\"Press\",  \"Umidita\", \"Pioggia\", \"mese\", \"ora\", \"DirVento\"]]\n",
    "y=data_puliti[\"TempAria\"].values\n",
    "reg=LinearRegression().fit(X, y)\n",
    "print(f\"\"\"\n",
    "coefficiente di detrminazione R^2: {reg.score(X, y):.2f}\n",
    "\n",
    "\n",
    "\"\"\")"
   ]
  },
  {
   "cell_type": "code",
   "execution_count": 29,
   "id": "0b91c375",
   "metadata": {},
   "outputs": [
    {
     "name": "stdout",
     "output_type": "stream",
     "text": [
      "coefficiente di determinazione R^2: 0.20137766500300558\n"
     ]
    }
   ],
   "source": [
    "X1 = data_puliti[[ \"mese\", \"ora\", \"DirVento\", \"Umidita\", \"VelVento\"]].values\n",
    "\n",
    "reg = LinearRegression().fit(X1, y)\n",
    "\n",
    "print(f\"coefficiente di determinazione R^2: {reg.score(X1, y)}\")"
   ]
  },
  {
   "cell_type": "code",
   "execution_count": null,
   "id": "77d008c0",
   "metadata": {},
   "outputs": [],
   "source": []
  },
  {
   "cell_type": "code",
   "execution_count": null,
   "id": "5842a056",
   "metadata": {},
   "outputs": [],
   "source": []
  }
 ],
 "metadata": {
  "kernelspec": {
   "display_name": "Python 3 (ipykernel)",
   "language": "python",
   "name": "python3"
  },
  "language_info": {
   "codemirror_mode": {
    "name": "ipython",
    "version": 3
   },
   "file_extension": ".py",
   "mimetype": "text/x-python",
   "name": "python",
   "nbconvert_exporter": "python",
   "pygments_lexer": "ipython3",
   "version": "3.11.4"
  }
 },
 "nbformat": 4,
 "nbformat_minor": 5
}
