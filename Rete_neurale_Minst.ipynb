{
 "cells": [
  {
   "cell_type": "markdown",
   "id": "9f21b2d6",
   "metadata": {},
   "source": [
    "rete neurale Minst.\n",
    "obiettivo:riconoscere l'immagine corrisponde a un numero. \n",
    "non necessita la normalizzazione. Il fit dura tempo. Numero di layer basso "
   ]
  },
  {
   "cell_type": "code",
   "execution_count": 10,
   "id": "751e6598",
   "metadata": {},
   "outputs": [],
   "source": [
    "import pandas as pd\n",
    "import numpy as np\n",
    "import matplotlib.pyplot as plt\n",
    "from sklearn.preprocessing import StandardScaler\n",
    "from sklearn.model_selection import train_test_split\n",
    "from skimage.transform import resize\n",
    "import joblib\n"
   ]
  },
  {
   "cell_type": "code",
   "execution_count": 2,
   "id": "dd4657b6",
   "metadata": {},
   "outputs": [
    {
     "data": {
      "text/html": [
       "<div>\n",
       "<style scoped>\n",
       "    .dataframe tbody tr th:only-of-type {\n",
       "        vertical-align: middle;\n",
       "    }\n",
       "\n",
       "    .dataframe tbody tr th {\n",
       "        vertical-align: top;\n",
       "    }\n",
       "\n",
       "    .dataframe thead th {\n",
       "        text-align: right;\n",
       "    }\n",
       "</style>\n",
       "<table border=\"1\" class=\"dataframe\">\n",
       "  <thead>\n",
       "    <tr style=\"text-align: right;\">\n",
       "      <th></th>\n",
       "      <th>pixel1</th>\n",
       "      <th>pixel2</th>\n",
       "      <th>pixel3</th>\n",
       "      <th>pixel4</th>\n",
       "      <th>pixel5</th>\n",
       "      <th>pixel6</th>\n",
       "      <th>pixel7</th>\n",
       "      <th>pixel8</th>\n",
       "      <th>pixel9</th>\n",
       "      <th>pixel10</th>\n",
       "      <th>...</th>\n",
       "      <th>pixel776</th>\n",
       "      <th>pixel777</th>\n",
       "      <th>pixel778</th>\n",
       "      <th>pixel779</th>\n",
       "      <th>pixel780</th>\n",
       "      <th>pixel781</th>\n",
       "      <th>pixel782</th>\n",
       "      <th>pixel783</th>\n",
       "      <th>pixel784</th>\n",
       "      <th>class</th>\n",
       "    </tr>\n",
       "  </thead>\n",
       "  <tbody>\n",
       "    <tr>\n",
       "      <th>0</th>\n",
       "      <td>0</td>\n",
       "      <td>0</td>\n",
       "      <td>0</td>\n",
       "      <td>0</td>\n",
       "      <td>0</td>\n",
       "      <td>0</td>\n",
       "      <td>0</td>\n",
       "      <td>0</td>\n",
       "      <td>0</td>\n",
       "      <td>0</td>\n",
       "      <td>...</td>\n",
       "      <td>0</td>\n",
       "      <td>0</td>\n",
       "      <td>0</td>\n",
       "      <td>0</td>\n",
       "      <td>0</td>\n",
       "      <td>0</td>\n",
       "      <td>0</td>\n",
       "      <td>0</td>\n",
       "      <td>0</td>\n",
       "      <td>5</td>\n",
       "    </tr>\n",
       "    <tr>\n",
       "      <th>1</th>\n",
       "      <td>0</td>\n",
       "      <td>0</td>\n",
       "      <td>0</td>\n",
       "      <td>0</td>\n",
       "      <td>0</td>\n",
       "      <td>0</td>\n",
       "      <td>0</td>\n",
       "      <td>0</td>\n",
       "      <td>0</td>\n",
       "      <td>0</td>\n",
       "      <td>...</td>\n",
       "      <td>0</td>\n",
       "      <td>0</td>\n",
       "      <td>0</td>\n",
       "      <td>0</td>\n",
       "      <td>0</td>\n",
       "      <td>0</td>\n",
       "      <td>0</td>\n",
       "      <td>0</td>\n",
       "      <td>0</td>\n",
       "      <td>0</td>\n",
       "    </tr>\n",
       "    <tr>\n",
       "      <th>2</th>\n",
       "      <td>0</td>\n",
       "      <td>0</td>\n",
       "      <td>0</td>\n",
       "      <td>0</td>\n",
       "      <td>0</td>\n",
       "      <td>0</td>\n",
       "      <td>0</td>\n",
       "      <td>0</td>\n",
       "      <td>0</td>\n",
       "      <td>0</td>\n",
       "      <td>...</td>\n",
       "      <td>0</td>\n",
       "      <td>0</td>\n",
       "      <td>0</td>\n",
       "      <td>0</td>\n",
       "      <td>0</td>\n",
       "      <td>0</td>\n",
       "      <td>0</td>\n",
       "      <td>0</td>\n",
       "      <td>0</td>\n",
       "      <td>4</td>\n",
       "    </tr>\n",
       "    <tr>\n",
       "      <th>3</th>\n",
       "      <td>0</td>\n",
       "      <td>0</td>\n",
       "      <td>0</td>\n",
       "      <td>0</td>\n",
       "      <td>0</td>\n",
       "      <td>0</td>\n",
       "      <td>0</td>\n",
       "      <td>0</td>\n",
       "      <td>0</td>\n",
       "      <td>0</td>\n",
       "      <td>...</td>\n",
       "      <td>0</td>\n",
       "      <td>0</td>\n",
       "      <td>0</td>\n",
       "      <td>0</td>\n",
       "      <td>0</td>\n",
       "      <td>0</td>\n",
       "      <td>0</td>\n",
       "      <td>0</td>\n",
       "      <td>0</td>\n",
       "      <td>1</td>\n",
       "    </tr>\n",
       "    <tr>\n",
       "      <th>4</th>\n",
       "      <td>0</td>\n",
       "      <td>0</td>\n",
       "      <td>0</td>\n",
       "      <td>0</td>\n",
       "      <td>0</td>\n",
       "      <td>0</td>\n",
       "      <td>0</td>\n",
       "      <td>0</td>\n",
       "      <td>0</td>\n",
       "      <td>0</td>\n",
       "      <td>...</td>\n",
       "      <td>0</td>\n",
       "      <td>0</td>\n",
       "      <td>0</td>\n",
       "      <td>0</td>\n",
       "      <td>0</td>\n",
       "      <td>0</td>\n",
       "      <td>0</td>\n",
       "      <td>0</td>\n",
       "      <td>0</td>\n",
       "      <td>9</td>\n",
       "    </tr>\n",
       "    <tr>\n",
       "      <th>...</th>\n",
       "      <td>...</td>\n",
       "      <td>...</td>\n",
       "      <td>...</td>\n",
       "      <td>...</td>\n",
       "      <td>...</td>\n",
       "      <td>...</td>\n",
       "      <td>...</td>\n",
       "      <td>...</td>\n",
       "      <td>...</td>\n",
       "      <td>...</td>\n",
       "      <td>...</td>\n",
       "      <td>...</td>\n",
       "      <td>...</td>\n",
       "      <td>...</td>\n",
       "      <td>...</td>\n",
       "      <td>...</td>\n",
       "      <td>...</td>\n",
       "      <td>...</td>\n",
       "      <td>...</td>\n",
       "      <td>...</td>\n",
       "      <td>...</td>\n",
       "    </tr>\n",
       "    <tr>\n",
       "      <th>69995</th>\n",
       "      <td>0</td>\n",
       "      <td>0</td>\n",
       "      <td>0</td>\n",
       "      <td>0</td>\n",
       "      <td>0</td>\n",
       "      <td>0</td>\n",
       "      <td>0</td>\n",
       "      <td>0</td>\n",
       "      <td>0</td>\n",
       "      <td>0</td>\n",
       "      <td>...</td>\n",
       "      <td>0</td>\n",
       "      <td>0</td>\n",
       "      <td>0</td>\n",
       "      <td>0</td>\n",
       "      <td>0</td>\n",
       "      <td>0</td>\n",
       "      <td>0</td>\n",
       "      <td>0</td>\n",
       "      <td>0</td>\n",
       "      <td>2</td>\n",
       "    </tr>\n",
       "    <tr>\n",
       "      <th>69996</th>\n",
       "      <td>0</td>\n",
       "      <td>0</td>\n",
       "      <td>0</td>\n",
       "      <td>0</td>\n",
       "      <td>0</td>\n",
       "      <td>0</td>\n",
       "      <td>0</td>\n",
       "      <td>0</td>\n",
       "      <td>0</td>\n",
       "      <td>0</td>\n",
       "      <td>...</td>\n",
       "      <td>0</td>\n",
       "      <td>0</td>\n",
       "      <td>0</td>\n",
       "      <td>0</td>\n",
       "      <td>0</td>\n",
       "      <td>0</td>\n",
       "      <td>0</td>\n",
       "      <td>0</td>\n",
       "      <td>0</td>\n",
       "      <td>3</td>\n",
       "    </tr>\n",
       "    <tr>\n",
       "      <th>69997</th>\n",
       "      <td>0</td>\n",
       "      <td>0</td>\n",
       "      <td>0</td>\n",
       "      <td>0</td>\n",
       "      <td>0</td>\n",
       "      <td>0</td>\n",
       "      <td>0</td>\n",
       "      <td>0</td>\n",
       "      <td>0</td>\n",
       "      <td>0</td>\n",
       "      <td>...</td>\n",
       "      <td>0</td>\n",
       "      <td>0</td>\n",
       "      <td>0</td>\n",
       "      <td>0</td>\n",
       "      <td>0</td>\n",
       "      <td>0</td>\n",
       "      <td>0</td>\n",
       "      <td>0</td>\n",
       "      <td>0</td>\n",
       "      <td>4</td>\n",
       "    </tr>\n",
       "    <tr>\n",
       "      <th>69998</th>\n",
       "      <td>0</td>\n",
       "      <td>0</td>\n",
       "      <td>0</td>\n",
       "      <td>0</td>\n",
       "      <td>0</td>\n",
       "      <td>0</td>\n",
       "      <td>0</td>\n",
       "      <td>0</td>\n",
       "      <td>0</td>\n",
       "      <td>0</td>\n",
       "      <td>...</td>\n",
       "      <td>0</td>\n",
       "      <td>0</td>\n",
       "      <td>0</td>\n",
       "      <td>0</td>\n",
       "      <td>0</td>\n",
       "      <td>0</td>\n",
       "      <td>0</td>\n",
       "      <td>0</td>\n",
       "      <td>0</td>\n",
       "      <td>5</td>\n",
       "    </tr>\n",
       "    <tr>\n",
       "      <th>69999</th>\n",
       "      <td>0</td>\n",
       "      <td>0</td>\n",
       "      <td>0</td>\n",
       "      <td>0</td>\n",
       "      <td>0</td>\n",
       "      <td>0</td>\n",
       "      <td>0</td>\n",
       "      <td>0</td>\n",
       "      <td>0</td>\n",
       "      <td>0</td>\n",
       "      <td>...</td>\n",
       "      <td>0</td>\n",
       "      <td>0</td>\n",
       "      <td>0</td>\n",
       "      <td>0</td>\n",
       "      <td>0</td>\n",
       "      <td>0</td>\n",
       "      <td>0</td>\n",
       "      <td>0</td>\n",
       "      <td>0</td>\n",
       "      <td>6</td>\n",
       "    </tr>\n",
       "  </tbody>\n",
       "</table>\n",
       "<p>70000 rows × 785 columns</p>\n",
       "</div>"
      ],
      "text/plain": [
       "       pixel1  pixel2  pixel3  pixel4  pixel5  pixel6  pixel7  pixel8  pixel9  \\\n",
       "0           0       0       0       0       0       0       0       0       0   \n",
       "1           0       0       0       0       0       0       0       0       0   \n",
       "2           0       0       0       0       0       0       0       0       0   \n",
       "3           0       0       0       0       0       0       0       0       0   \n",
       "4           0       0       0       0       0       0       0       0       0   \n",
       "...       ...     ...     ...     ...     ...     ...     ...     ...     ...   \n",
       "69995       0       0       0       0       0       0       0       0       0   \n",
       "69996       0       0       0       0       0       0       0       0       0   \n",
       "69997       0       0       0       0       0       0       0       0       0   \n",
       "69998       0       0       0       0       0       0       0       0       0   \n",
       "69999       0       0       0       0       0       0       0       0       0   \n",
       "\n",
       "       pixel10  ...  pixel776  pixel777  pixel778  pixel779  pixel780  \\\n",
       "0            0  ...         0         0         0         0         0   \n",
       "1            0  ...         0         0         0         0         0   \n",
       "2            0  ...         0         0         0         0         0   \n",
       "3            0  ...         0         0         0         0         0   \n",
       "4            0  ...         0         0         0         0         0   \n",
       "...        ...  ...       ...       ...       ...       ...       ...   \n",
       "69995        0  ...         0         0         0         0         0   \n",
       "69996        0  ...         0         0         0         0         0   \n",
       "69997        0  ...         0         0         0         0         0   \n",
       "69998        0  ...         0         0         0         0         0   \n",
       "69999        0  ...         0         0         0         0         0   \n",
       "\n",
       "       pixel781  pixel782  pixel783  pixel784  class  \n",
       "0             0         0         0         0      5  \n",
       "1             0         0         0         0      0  \n",
       "2             0         0         0         0      4  \n",
       "3             0         0         0         0      1  \n",
       "4             0         0         0         0      9  \n",
       "...         ...       ...       ...       ...    ...  \n",
       "69995         0         0         0         0      2  \n",
       "69996         0         0         0         0      3  \n",
       "69997         0         0         0         0      4  \n",
       "69998         0         0         0         0      5  \n",
       "69999         0         0         0         0      6  \n",
       "\n",
       "[70000 rows x 785 columns]"
      ]
     },
     "execution_count": 2,
     "metadata": {},
     "output_type": "execute_result"
    }
   ],
   "source": [
    "data=pd.read_csv(\"./mnist_784_csv.csv\")\n",
    "data"
   ]
  },
  {
   "cell_type": "code",
   "execution_count": 8,
   "id": "a24eae57",
   "metadata": {},
   "outputs": [
    {
     "data": {
      "text/plain": [
       "Index(['pixel1', 'pixel2', 'pixel3', 'pixel4', 'pixel5', 'pixel6', 'pixel7',\n",
       "       'pixel8', 'pixel9', 'pixel10',\n",
       "       ...\n",
       "       'pixel775', 'pixel776', 'pixel777', 'pixel778', 'pixel779', 'pixel780',\n",
       "       'pixel781', 'pixel782', 'pixel783', 'pixel784'],\n",
       "      dtype='object', length=784)"
      ]
     },
     "execution_count": 8,
     "metadata": {},
     "output_type": "execute_result"
    }
   ],
   "source": [
    "colonne=data.columns\n",
    "colonne=colonne[:-1]\n",
    "colonne"
   ]
  },
  {
   "cell_type": "code",
   "execution_count": 11,
   "id": "1442b5ba",
   "metadata": {},
   "outputs": [],
   "source": [
    "X=data[colonne].values\n",
    "y=data[\"class\"]\n",
    "X_train, X_test, y_train, y_test=train_test_split(X, y, train_size=0.85, random_state=0)\n"
   ]
  },
  {
   "cell_type": "code",
   "execution_count": 12,
   "id": "9014ca56",
   "metadata": {},
   "outputs": [],
   "source": [
    "from sklearn.neural_network import MLPClassifier\n",
    "model=MLPClassifier(hidden_layer_sizes=(40, 40), random_state=1, max_iter=200)\n",
    "#hidden_size: numero di nodi nascosti 100 100\n",
    "#max iter. diciamo al modello di allenarsi 300 volte. impara sui set di allenamento\n",
    "#per 300 volte scorriamo l'array e per ogni riga specifichiamo le carattteristiche dell'alieno\n"
   ]
  },
  {
   "cell_type": "code",
   "execution_count": 13,
   "id": "f72dd249",
   "metadata": {},
   "outputs": [
    {
     "data": {
      "text/html": [
       "<style>#sk-container-id-1 {color: black;}#sk-container-id-1 pre{padding: 0;}#sk-container-id-1 div.sk-toggleable {background-color: white;}#sk-container-id-1 label.sk-toggleable__label {cursor: pointer;display: block;width: 100%;margin-bottom: 0;padding: 0.3em;box-sizing: border-box;text-align: center;}#sk-container-id-1 label.sk-toggleable__label-arrow:before {content: \"▸\";float: left;margin-right: 0.25em;color: #696969;}#sk-container-id-1 label.sk-toggleable__label-arrow:hover:before {color: black;}#sk-container-id-1 div.sk-estimator:hover label.sk-toggleable__label-arrow:before {color: black;}#sk-container-id-1 div.sk-toggleable__content {max-height: 0;max-width: 0;overflow: hidden;text-align: left;background-color: #f0f8ff;}#sk-container-id-1 div.sk-toggleable__content pre {margin: 0.2em;color: black;border-radius: 0.25em;background-color: #f0f8ff;}#sk-container-id-1 input.sk-toggleable__control:checked~div.sk-toggleable__content {max-height: 200px;max-width: 100%;overflow: auto;}#sk-container-id-1 input.sk-toggleable__control:checked~label.sk-toggleable__label-arrow:before {content: \"▾\";}#sk-container-id-1 div.sk-estimator input.sk-toggleable__control:checked~label.sk-toggleable__label {background-color: #d4ebff;}#sk-container-id-1 div.sk-label input.sk-toggleable__control:checked~label.sk-toggleable__label {background-color: #d4ebff;}#sk-container-id-1 input.sk-hidden--visually {border: 0;clip: rect(1px 1px 1px 1px);clip: rect(1px, 1px, 1px, 1px);height: 1px;margin: -1px;overflow: hidden;padding: 0;position: absolute;width: 1px;}#sk-container-id-1 div.sk-estimator {font-family: monospace;background-color: #f0f8ff;border: 1px dotted black;border-radius: 0.25em;box-sizing: border-box;margin-bottom: 0.5em;}#sk-container-id-1 div.sk-estimator:hover {background-color: #d4ebff;}#sk-container-id-1 div.sk-parallel-item::after {content: \"\";width: 100%;border-bottom: 1px solid gray;flex-grow: 1;}#sk-container-id-1 div.sk-label:hover label.sk-toggleable__label {background-color: #d4ebff;}#sk-container-id-1 div.sk-serial::before {content: \"\";position: absolute;border-left: 1px solid gray;box-sizing: border-box;top: 0;bottom: 0;left: 50%;z-index: 0;}#sk-container-id-1 div.sk-serial {display: flex;flex-direction: column;align-items: center;background-color: white;padding-right: 0.2em;padding-left: 0.2em;position: relative;}#sk-container-id-1 div.sk-item {position: relative;z-index: 1;}#sk-container-id-1 div.sk-parallel {display: flex;align-items: stretch;justify-content: center;background-color: white;position: relative;}#sk-container-id-1 div.sk-item::before, #sk-container-id-1 div.sk-parallel-item::before {content: \"\";position: absolute;border-left: 1px solid gray;box-sizing: border-box;top: 0;bottom: 0;left: 50%;z-index: -1;}#sk-container-id-1 div.sk-parallel-item {display: flex;flex-direction: column;z-index: 1;position: relative;background-color: white;}#sk-container-id-1 div.sk-parallel-item:first-child::after {align-self: flex-end;width: 50%;}#sk-container-id-1 div.sk-parallel-item:last-child::after {align-self: flex-start;width: 50%;}#sk-container-id-1 div.sk-parallel-item:only-child::after {width: 0;}#sk-container-id-1 div.sk-dashed-wrapped {border: 1px dashed gray;margin: 0 0.4em 0.5em 0.4em;box-sizing: border-box;padding-bottom: 0.4em;background-color: white;}#sk-container-id-1 div.sk-label label {font-family: monospace;font-weight: bold;display: inline-block;line-height: 1.2em;}#sk-container-id-1 div.sk-label-container {text-align: center;}#sk-container-id-1 div.sk-container {/* jupyter's `normalize.less` sets `[hidden] { display: none; }` but bootstrap.min.css set `[hidden] { display: none !important; }` so we also need the `!important` here to be able to override the default hidden behavior on the sphinx rendered scikit-learn.org. See: https://github.com/scikit-learn/scikit-learn/issues/21755 */display: inline-block !important;position: relative;}#sk-container-id-1 div.sk-text-repr-fallback {display: none;}</style><div id=\"sk-container-id-1\" class=\"sk-top-container\"><div class=\"sk-text-repr-fallback\"><pre>MLPClassifier(hidden_layer_sizes=(40, 40), random_state=1)</pre><b>In a Jupyter environment, please rerun this cell to show the HTML representation or trust the notebook. <br />On GitHub, the HTML representation is unable to render, please try loading this page with nbviewer.org.</b></div><div class=\"sk-container\" hidden><div class=\"sk-item\"><div class=\"sk-estimator sk-toggleable\"><input class=\"sk-toggleable__control sk-hidden--visually\" id=\"sk-estimator-id-1\" type=\"checkbox\" checked><label for=\"sk-estimator-id-1\" class=\"sk-toggleable__label sk-toggleable__label-arrow\">MLPClassifier</label><div class=\"sk-toggleable__content\"><pre>MLPClassifier(hidden_layer_sizes=(40, 40), random_state=1)</pre></div></div></div></div></div>"
      ],
      "text/plain": [
       "MLPClassifier(hidden_layer_sizes=(40, 40), random_state=1)"
      ]
     },
     "execution_count": 13,
     "metadata": {},
     "output_type": "execute_result"
    }
   ],
   "source": [
    "model.fit(X_train, y_train)"
   ]
  },
  {
   "cell_type": "code",
   "execution_count": 14,
   "id": "8678b428",
   "metadata": {},
   "outputs": [
    {
     "name": "stdout",
     "output_type": "stream",
     "text": [
      "Accuratezza set TRAIN: 0.9920672268907563\n",
      "Accuratezza set TEST: 0.9547619047619048\n"
     ]
    }
   ],
   "source": [
    "print(f\"Accuratezza set TRAIN: {model.score(X_train, y_train)}\")\n",
    "print(f\"Accuratezza set TEST: {model.score(X_test, y_test)}\")"
   ]
  },
  {
   "cell_type": "code",
   "execution_count": 12,
   "id": "b4a7db78",
   "metadata": {},
   "outputs": [
    {
     "data": {
      "text/plain": [
       "['modello_riconoscimento_numeri.pkl']"
      ]
     },
     "execution_count": 12,
     "metadata": {},
     "output_type": "execute_result"
    }
   ],
   "source": [
    "joblib.dump(model, 'modello_riconoscimento_numeri.pkl')\n"
   ]
  },
  {
   "cell_type": "code",
   "execution_count": 164,
   "id": "00d48b98",
   "metadata": {},
   "outputs": [
    {
     "data": {
      "image/png": "[encoded data removed]",
      "text/plain": [
       "<Figure size 640x480 with 1 Axes>"
      ]
     },
     "metadata": {},
     "output_type": "display_data"
    }
   ],
   "source": [
    "# Carica un'immagine\n",
    "img = plt.imread(\"./9.png\")\n",
    "\n",
    "# Converti l'immagine in scala di grigi\n",
    "img_gray = img.mean(axis=2)\n",
    "\n",
    "# Inverti i valori dell'immagine (bianco diventa nero e viceversa)\n",
    "max_value = np.max(img_gray)\n",
    "img_inverted = max_value - img_gray\n",
    "\n",
    "# Ridimensiona l'immagine a 28x28\n",
    "img_resized = resize(img_inverted, (28, 28))\n",
    "\n",
    "# Mostra l'immagine ridimensionata in bianco e nero con sfondo bianco e numero nero\n",
    "plt.imshow(img_resized, cmap='binary', vmin=0, vmax=max_value)\n",
    "plt.axis('off')  # Disabilita gli assi\n",
    "plt.show()\n",
    "\n"
   ]
  },
  {
   "cell_type": "code",
   "execution_count": null,
   "id": "545fac8a",
   "metadata": {},
   "outputs": [],
   "source": []
  },
  {
   "cell_type": "code",
   "execution_count": 157,
   "id": "df71df29",
   "metadata": {},
   "outputs": [
    {
     "data": {
      "text/plain": [
       "array([[  0,   0,   0,   0,   0,   0,   0,   0,   0,   0,   0,   0,   0,\n",
       "          0,   0,   0,   0,   0,   0,   0,   0,   0,   0,   0,   0,   0,\n",
       "          0,   0],\n",
       "       [  0,   0,   0,   0,   0,   0,   0,   0,   0,   0,   0,   0,   0,\n",
       "          0,   0,   0,   0,   0,   0,   0,   0,   0,   0,   0,   0,   0,\n",
       "          0,   0],\n",
       "       [  0,   0,   0,   0,   0,   0,   0,   0,   0,   0,   0,   0,   0,\n",
       "          0,   0,   0,   0,   0,   0,   0,   0,   0,   0,   0,   0,   0,\n",
       "          0,   0],\n",
       "       [  0,   0,   0,   0,   0,   0,   0,   0,   0,   0,   0,   0,   0,\n",
       "          0,   3,   5,   4,   1,   0,   0,   0,   0,   0,   0,   0,   0,\n",
       "          0,   0],\n",
       "       [  0,   0,   0,   0,   0,   0,   0,   0,   0,   0,   0,   0,  18,\n",
       "         81, 147, 163, 155, 115,  49,   8,   0,   0,   0,   0,   0,   0,\n",
       "          0,   0],\n",
       "       [  0,   0,   0,   0,   0,   0,   0,   0,   0,   0,   0,   6, 133,\n",
       "        197, 133, 108, 121, 167, 214, 136,  12,   0,   0,   0,   0,   0,\n",
       "          0,   0],\n",
       "       [  0,   0,   0,   0,   0,   0,   0,   0,   0,   4,   1,   1,  27,\n",
       "         18,   3,   1,   1,   7,  44, 188,  85,   1,   0,   0,   0,   0,\n",
       "          0,   0],\n",
       "       [  0,   0,   0,   0,   0,   0,   0,   0,   6, 107,  40,   0,   0,\n",
       "          0,   0,   0,   0,   0,   2, 104, 138,   3,   0,   0,   0,   0,\n",
       "          0,   0],\n",
       "       [  0,   0,   0,   0,   0,   0,   0,   0,  29, 192,  34,   0,   0,\n",
       "          0,   0,   0,   0,   0,  21, 164, 122,   2,   0,   0,   0,   0,\n",
       "          0,   0],\n",
       "       [  0,   0,   0,   0,   0,   0,   0,   0,  40, 190,  21,   0,   0,\n",
       "          0,   0,   0,   0,  20, 169, 231,  44,   0,   0,   0,   0,   0,\n",
       "          0,   0],\n",
       "       [  0,   0,   0,   0,   0,   0,   0,   0,  16, 180,  91,   7,   1,\n",
       "          0,   2,  13,  65, 175, 218,  66,   2,   0,   0,   0,   0,   0,\n",
       "          0,   0],\n",
       "       [  0,   0,   0,   0,   0,   0,   0,   0,   1,  71, 209, 155,  99,\n",
       "         87, 119, 187, 255, 240,  50,   1,   0,   0,   0,   0,   0,   0,\n",
       "          0,   0],\n",
       "       [  0,   0,   0,   0,   0,   0,   0,   0,   0,   3,  49, 132, 176,\n",
       "        182, 160, 111, 198, 103,   3,   0,   0,   0,   0,   0,   0,   0,\n",
       "          0,   0],\n",
       "       [  0,   0,   0,   0,   0,   0,   0,   0,   0,   0,   0,   3,   7,\n",
       "          8,   7,  92, 181,  20,   0,   0,   0,   0,   0,   0,   0,   0,\n",
       "          0,   0],\n",
       "       [  0,   0,   0,   0,   0,   0,   0,   0,   0,   0,   0,   0,   0,\n",
       "          0,  31, 192,  69,   1,   0,   0,   0,   0,   0,   0,   0,   0,\n",
       "          0,   0],\n",
       "       [  0,   0,   0,   0,   0,   0,   0,   0,   0,   0,   0,   0,   0,\n",
       "          4, 120, 147,   8,   0,   0,   0,   0,   0,   0,   0,   0,   0,\n",
       "          0,   0],\n",
       "       [  0,   0,   0,   0,   0,   0,   0,   0,   0,   0,   0,   0,   0,\n",
       "         34, 194,  50,   0,   0,   0,   0,   0,   0,   0,   0,   0,   0,\n",
       "          0,   0],\n",
       "       [  0,   0,   0,   0,   0,   0,   0,   0,   0,   0,   0,   0,   6,\n",
       "        131, 143,   7,   0,   0,   0,   0,   0,   0,   0,   0,   0,   0,\n",
       "          0,   0],\n",
       "       [  0,   0,   0,   0,   0,   0,   0,   0,   0,   0,   0,   0,  52,\n",
       "        197,  41,   0,   0,   0,   0,   0,   0,   0,   0,   0,   0,   0,\n",
       "          0,   0],\n",
       "       [  0,   0,   0,   0,   0,   0,   0,   0,   0,   0,   0,   9, 153,\n",
       "        115,   4,   0,   0,   0,   0,   0,   0,   0,   0,   0,   0,   0,\n",
       "          0,   0],\n",
       "       [  0,   0,   0,   0,   0,   0,   0,   0,   0,   0,   0,  60, 192,\n",
       "         28,   0,   0,   0,   0,   0,   0,   0,   0,   0,   0,   0,   0,\n",
       "          0,   0],\n",
       "       [  0,   0,   0,   0,   0,   0,   0,   0,   0,   0,  12, 167, 104,\n",
       "          2,   0,   0,   0,   0,   0,   0,   0,   0,   0,   0,   0,   0,\n",
       "          0,   0],\n",
       "       [  0,   0,   0,   0,   0,   0,   0,   0,   0,   0,  20, 120,  19,\n",
       "          0,   0,   0,   0,   0,   0,   0,   0,   0,   0,   0,   0,   0,\n",
       "          0,   0],\n",
       "       [  0,   0,   0,   0,   0,   0,   0,   0,   0,   0,   0,   5,   0,\n",
       "          0,   0,   0,   0,   0,   0,   0,   0,   0,   0,   0,   0,   0,\n",
       "          0,   0],\n",
       "       [  0,   0,   0,   0,   0,   0,   0,   0,   0,   0,   0,   0,   0,\n",
       "          0,   0,   0,   0,   0,   0,   0,   0,   0,   0,   0,   0,   0,\n",
       "          0,   0],\n",
       "       [  0,   0,   0,   0,   0,   0,   0,   0,   0,   0,   0,   0,   0,\n",
       "          0,   0,   0,   0,   0,   0,   0,   0,   0,   0,   0,   0,   0,\n",
       "          0,   0],\n",
       "       [  0,   0,   0,   0,   0,   0,   0,   0,   0,   0,   0,   0,   0,\n",
       "          0,   0,   0,   0,   0,   0,   0,   0,   0,   0,   0,   0,   0,\n",
       "          0,   0],\n",
       "       [  0,   0,   0,   0,   0,   0,   0,   0,   0,   0,   0,   0,   0,\n",
       "          0,   0,   0,   0,   0,   0,   0,   0,   0,   0,   0,   0,   0,\n",
       "          0,   0]], dtype=uint8)"
      ]
     },
     "execution_count": 157,
     "metadata": {},
     "output_type": "execute_result"
    }
   ],
   "source": [
    "(img_resized/np.max(img_resized)*255).astype(np.uint8)"
   ]
  },
  {
   "cell_type": "code",
   "execution_count": 165,
   "id": "01df2ded",
   "metadata": {},
   "outputs": [
    {
     "data": {
      "text/plain": [
       "<matplotlib.image.AxesImage at 0x2434c371e10>"
      ]
     },
     "execution_count": 165,
     "metadata": {},
     "output_type": "execute_result"
    },
    {
     "data": {
      "image/png": "[encoded data removed]",
      "text/plain": [
       "<Figure size 640x480 with 1 Axes>"
      ]
     },
     "metadata": {},
     "output_type": "display_data"
    }
   ],
   "source": [
    "array_unidimensionale =(img_resized/np.max(img_resized)*255).astype(np.uint8).reshape((1, -1)).astype(np.int8)\n",
    "plt.imshow(array_unidimensionale.reshape((28,-1)), cmap=\"binary\")"
   ]
  },
  {
   "cell_type": "code",
   "execution_count": 166,
   "id": "61e5226a",
   "metadata": {},
   "outputs": [
    {
     "data": {
      "image/png": "[encoded data removed]",
      "text/plain": [
       "<Figure size 640x480 with 1 Axes>"
      ]
     },
     "metadata": {},
     "output_type": "display_data"
    }
   ],
   "source": [
    "immagine=(img_resized/np.max(img_resized)*255).astype(np.uint8).copy()\n",
    "plt.imshow(immagine.reshape((28,-1)), cmap=\"binary\")\n",
    "array_immagine=immagine.reshape((1, -1))"
   ]
  },
  {
   "cell_type": "code",
   "execution_count": 97,
   "id": "2c76df94",
   "metadata": {},
   "outputs": [
    {
     "data": {
      "text/plain": [
       "<matplotlib.image.AxesImage at 0x2430ba8c6d0>"
      ]
     },
     "execution_count": 97,
     "metadata": {},
     "output_type": "execute_result"
    },
    {
     "data": {
      "image/png": "[encoded data removed]",
      "text/plain": [
       "<Figure size 640x480 with 1 Axes>"
      ]
     },
     "metadata": {},
     "output_type": "display_data"
    }
   ],
   "source": [
    "array_unidimensionale =(img_resized/np.max(img_resized)*255).astype(np.uint8).reshape((1, -1)).astype(np.int8)\n",
    "plt.imshow(X_test[2].reshape((28,-1)), cmap=\"binary\")"
   ]
  },
  {
   "cell_type": "code",
   "execution_count": 167,
   "id": "8471434e",
   "metadata": {},
   "outputs": [
    {
     "data": {
      "text/plain": [
       "array([9], dtype=int64)"
      ]
     },
     "execution_count": 167,
     "metadata": {},
     "output_type": "execute_result"
    }
   ],
   "source": [
    "model.predict(array_immagine)\n"
   ]
  },
  {
   "cell_type": "code",
   "execution_count": 109,
   "id": "b2ac12d2",
   "metadata": {},
   "outputs": [
    {
     "data": {
      "text/plain": [
       "array([  0,   0,   0,   0,   0,   0,   0,   0,   0,   0,   0,   0,   0,\n",
       "         0,   0,   0,   0,   0,   0,   0,   0,   0,   0,   0,   0,   0,\n",
       "         0,   0,   0,   0,   0,   0,   0,   0,   0,   0,   0,   0,   0,\n",
       "         0,   0,   0,   0,   0,   0,   0,   0,   0,   0,   0,   0,   0,\n",
       "         0,   0,   0,   0,   0,   0,   0,   0,   0,   0,   0,   0,   0,\n",
       "         0,   0,   0,   0,   0,   0,   0,   0,   0,   0,   0,   0,   0,\n",
       "         0,   0,   0,   0,   0,   0,   0,   0,   0,   0,   0,   0,   0,\n",
       "         0,   0,   0,   0,   0,   0,   0,   0,   0,   0,   0,   0,   0,\n",
       "         0,   0,   0,   0,   0,   0,   0,   0,   0,   0,   0,   0,   0,\n",
       "         0,   0,   0,   0,   0,   0,   0,   0,   0,   0,   0,   0,   0,\n",
       "         0,   0,   0,   0,   0,   0,   0,   0,   0,   0,   0,   0,   0,\n",
       "         0,   0,   0,   0,   0,   0,   0,   0,   0, 114, 242, 116,   7,\n",
       "         0,   0,   0,   0,   0,   0,   0,   0,   0,   0,   0,   0,   0,\n",
       "         0,   0,   0,   0,   0,   0,   0,   0,   0,   0,   0, 113, 253,\n",
       "       252,  56,   0,   0,   0,   0,   0,   0,   0,   0,   0,   0,   0,\n",
       "         0,   0,   0,   0,   0,   0,   0,   0,   0,   0,   0,   0,   0,\n",
       "       113, 253, 252,  94,   0,   0,   0,   0,   0,   0,   0,   0,   0,\n",
       "         0,   0,   0,   0,   0,   0,   0,   0,   0,   0,   0,   0,   0,\n",
       "         0,   0, 113, 253, 252, 205,  13,   0,   0,   0,   0,   0,   0,\n",
       "         0,   0,   0,   0,   0,   0,   0,   0,   0,   0,   0,   0,   0,\n",
       "         0,   0,   0,   0, 114, 255, 253, 253,  28,   0,   0,   0,   0,\n",
       "         0,   0,   0,   0,   0,   0,   0,   0,   0,   0,   0,   0,   0,\n",
       "         0,   0,   0,   0,   0,   0, 113, 253, 252, 252, 103,   0,   0,\n",
       "         0,   0,   0,   0,   0,   0,   0,   0,   0,   0,   0,   0,   0,\n",
       "         0,   0,   0,   0,   0,   0,   0,   0,  76, 253, 252, 252, 139,\n",
       "         0,   0,   0,   0,   0,   0,   0,   0,   0,   0,   0,   0,   0,\n",
       "         0,   0,   0,   0,   0,   0,   0,   0,   0,   0,  51, 253, 252,\n",
       "       252, 139,   0,   0,   0,   0,   0,   0,   0,   0,   0,   0,   0,\n",
       "         0,   0,   0,   0,   0,   0,   0,   0,   0,   0,   0,   0,   0,\n",
       "       141, 253, 253, 140,   0,   0,   0,   0,   0,   0,   0,   0,   0,\n",
       "         0,   0,   0,   0,   0,   0,   0,   0,   0,   0,   0,   0,   0,\n",
       "         0,   0, 141, 252, 252, 165,   0,   0,   0,   0,   0,   0,   0,\n",
       "         0,   0,   0,   0,   0,   0,   0,   0,   0,   0,   0,   0,   0,\n",
       "         0,   0,   0,   0, 104, 252, 252, 214,   0,   0,   0,   0,   0,\n",
       "         0,   0,   0,   0,   0,   0,   0,   0,   0,   0,   0,   0,   0,\n",
       "         0,   0,   0,   0,   0,   0,  29, 252, 252, 240,   0,   0,   0,\n",
       "         0,   0,   0,   0,   0,   0,   0,   0,   0,   0,   0,   0,   0,\n",
       "         0,   0,   0,   0,   0,   0,   0,   0,  29, 253, 253, 253,   0,\n",
       "         0,   0,   0,   0,   0,   0,   0,   0,   0,   0,   0,   0,   0,\n",
       "         0,   0,   0,   0,   0,   0,   0,   0,   0,   0,  29, 252, 252,\n",
       "       252,   0,   0,   0,   0,   0,   0,   0,   0,   0,   0,   0,   0,\n",
       "         0,   0,   0,   0,   0,   0,   0,   0,   0,   0,   0,   0,  29,\n",
       "       252, 252, 252,   0,   0,   0,   0,   0,   0,   0,   0,   0,   0,\n",
       "         0,   0,   0,   0,   0,   0,   0,   0,   0,   0,   0,   0,   0,\n",
       "         0,  29, 252, 252, 252,   0,   0,   0,   0,   0,   0,   0,   0,\n",
       "         0,   0,   0,   0,   0,   0,   0,   0,   0,   0,   0,   0,   0,\n",
       "         0,   0,   0,  16, 216, 253, 253,   0,   0,   0,   0,   0,   0,\n",
       "         0,   0,   0,   0,   0,   0,   0,   0,   0,   0,   0,   0,   0,\n",
       "         0,   0,   0,   0,   0,  29, 252, 252, 252,  26,   0,   0,   0,\n",
       "         0,   0,   0,   0,   0,   0,   0,   0,   0,   0,   0,   0,   0,\n",
       "         0,   0,   0,   0,   0,   0,   0,  29, 252, 252, 252,  76,   0,\n",
       "         0,   0,   0,   0,   0,   0,   0,   0,   0,   0,   0,   0,   0,\n",
       "         0,   0,   0,   0,   0,   0,   0,   0,   0,   4, 128, 252, 151,\n",
       "         0,   0,   0,   0,   0,   0,   0,   0,   0,   0,   0,   0,   0,\n",
       "         0,   0,   0,   0,   0,   0,   0,   0,   0,   0,   0,   0,   0,\n",
       "         0,   0,   0,   0,   0,   0,   0,   0,   0,   0,   0,   0,   0,\n",
       "         0,   0,   0,   0,   0,   0,   0,   0,   0,   0,   0,   0,   0,\n",
       "         0,   0,   0,   0,   0,   0,   0,   0,   0,   0,   0,   0,   0,\n",
       "         0,   0,   0,   0,   0,   0,   0,   0,   0,   0,   0,   0,   0,\n",
       "         0,   0,   0,   0,   0,   0,   0,   0,   0,   0,   0,   0,   0,\n",
       "         0,   0,   0,   0], dtype=int64)"
      ]
     },
     "execution_count": 109,
     "metadata": {},
     "output_type": "execute_result"
    }
   ],
   "source": [
    "X_test[2]"
   ]
  },
  {
   "cell_type": "code",
   "execution_count": 77,
   "id": "b9a5be9d",
   "metadata": {},
   "outputs": [
    {
     "data": {
      "text/plain": [
       "array([[1.11675832e-04, 9.49292723e-07, 3.54020812e-03, 9.70857046e-01,\n",
       "        2.82797404e-06, 1.36473949e-03, 1.15121447e-06, 1.09551943e-07,\n",
       "        2.38130027e-02, 3.08290220e-04]])"
      ]
     },
     "execution_count": 77,
     "metadata": {},
     "output_type": "execute_result"
    }
   ],
   "source": [
    "model.predict_proba(array_immagine)"
   ]
  },
  {
   "cell_type": "code",
   "execution_count": null,
   "id": "6c5a12d0",
   "metadata": {},
   "outputs": [],
   "source": []
  },
  {
   "cell_type": "code",
   "execution_count": 115,
   "id": "f1d9f3cd",
   "metadata": {},
   "outputs": [
    {
     "data": {
      "text/plain": [
       "10840    0\n",
       "56267    4\n",
       "14849    1\n",
       "62726    2\n",
       "47180    7\n",
       "        ..\n",
       "43003    1\n",
       "45128    0\n",
       "16895    2\n",
       "66915    4\n",
       "26883    2\n",
       "Name: class, Length: 10500, dtype: int64"
      ]
     },
     "execution_count": 115,
     "metadata": {},
     "output_type": "execute_result"
    }
   ],
   "source": [
    "y_test"
   ]
  },
  {
   "cell_type": "code",
   "execution_count": 135,
   "id": "e835214f",
   "metadata": {
    "scrolled": false
   },
   "outputs": [
    {
     "data": {
      "text/plain": [
       "array([[248.25002, 248.25002, 248.25002, 248.25002, 248.25002, 248.25002,\n",
       "        248.25002, 248.25002, 248.25002, 248.25002, 248.25002, 248.25002,\n",
       "        248.25002, 248.25002, 248.25002, 248.25002, 248.25002, 248.25002,\n",
       "        248.25002, 248.25002, 248.25002, 248.25002, 248.25002, 248.25002,\n",
       "        248.25002, 248.25002, 248.25002, 248.25002],\n",
       "       [248.25002, 248.25002, 248.25002, 248.25002, 248.25002, 248.25002,\n",
       "        248.25002, 248.25002, 248.25002, 248.25002, 248.25002, 248.25002,\n",
       "        248.25002, 248.25002, 248.25002, 248.25002, 248.25002, 248.25002,\n",
       "        248.25002, 248.25002, 248.25002, 248.25002, 248.25002, 248.25002,\n",
       "        248.25002, 248.25002, 248.25002, 248.25002],\n",
       "       [248.25002, 248.25002, 248.25002, 248.25002, 248.25002, 248.25002,\n",
       "        248.25002, 248.25002, 248.25002, 248.25002, 248.25002, 248.25002,\n",
       "        248.25002, 248.25002, 248.25002, 248.25002, 248.25002, 248.25002,\n",
       "        248.25002, 248.25002, 248.25002, 248.25002, 248.25002, 248.25002,\n",
       "        248.25002, 248.25002, 248.25002, 248.25002],\n",
       "       [248.25002, 248.25018, 248.26347, 248.29631, 248.29968, 248.29968,\n",
       "        248.29968, 248.29968, 248.29968, 248.29968, 248.29968, 248.29968,\n",
       "        248.29968, 248.29968, 248.29968, 248.29968, 248.29968, 248.29968,\n",
       "        248.29968, 248.29968, 248.29968, 248.29968, 248.29968, 248.29968,\n",
       "        248.29968, 248.29968, 248.29968, 248.29968],\n",
       "       [248.25002, 248.25883, 248.96309, 250.70164, 250.88034, 250.8807 ,\n",
       "        250.8807 , 250.8807 , 250.8807 , 250.8807 , 250.8807 , 250.8807 ,\n",
       "        250.8807 , 250.8807 , 250.8807 , 250.8807 , 250.8807 , 250.8807 ,\n",
       "        250.8807 , 250.8807 , 250.8807 , 250.8807 , 250.8807 , 250.8807 ,\n",
       "        250.8807 , 250.8807 , 250.8807 , 250.8807 ],\n",
       "       [248.25002, 248.27193, 250.02406, 254.34949, 254.79405, 254.79498,\n",
       "        254.79498, 254.79498, 254.79498, 254.79498, 254.79498, 254.79498,\n",
       "        254.79498, 254.79498, 254.79498, 254.79498, 254.79498, 254.79498,\n",
       "        254.79498, 254.79498, 254.79498, 254.79498, 254.79498, 254.79498,\n",
       "        254.79498, 254.79498, 254.79498, 254.79498],\n",
       "       [248.25002, 248.27261, 250.07964, 254.54054, 254.99902, 254.99998,\n",
       "        254.99998, 254.99998, 254.99998, 254.99998, 254.99998, 254.99998,\n",
       "        254.99998, 254.99998, 254.99998, 254.99998, 254.99998, 254.99998,\n",
       "        254.99998, 254.99998, 254.99998, 254.99998, 254.99998, 254.99998,\n",
       "        254.99998, 254.99998, 254.99998, 254.99998],\n",
       "       [248.25002, 248.27261, 250.07964, 254.54054, 254.99904, 255.     ,\n",
       "        255.     , 255.     , 255.     , 255.     , 255.     , 255.     ,\n",
       "        255.     , 255.     , 255.     , 255.     , 255.     , 255.     ,\n",
       "        255.     , 255.     , 255.     , 255.     , 255.     , 255.     ,\n",
       "        255.     , 255.     , 255.     , 255.     ],\n",
       "       [248.25002, 248.27261, 250.07964, 254.54054, 254.99904, 255.     ,\n",
       "        255.     , 255.     , 255.     , 255.     , 255.     , 255.     ,\n",
       "        254.99994, 254.99136, 254.9699 , 254.98714, 254.99771, 254.99992,\n",
       "        255.     , 255.     , 255.     , 255.     , 255.     , 255.     ,\n",
       "        255.     , 255.     , 255.     , 255.     ],\n",
       "       [248.25002, 248.27261, 250.07964, 254.54054, 254.99904, 255.     ,\n",
       "        255.     , 255.     , 255.     , 255.     , 255.     , 254.99998,\n",
       "        254.9562 , 252.29045, 243.27156, 246.47044, 253.14984, 254.96811,\n",
       "        255.     , 255.     , 255.     , 255.     , 255.     , 255.     ,\n",
       "        255.     , 255.     , 255.     , 255.     ],\n",
       "       [248.25002, 248.27261, 250.07964, 254.54054, 254.99904, 255.     ,\n",
       "        255.     , 255.     , 255.     , 255.     , 255.     , 254.99976,\n",
       "        253.64883, 217.43713, 167.59302, 192.34415, 240.53426, 254.78319,\n",
       "        254.99998, 255.     , 255.     , 255.     , 255.     , 255.     ,\n",
       "        255.     , 255.     , 255.     , 255.     ],\n",
       "       [248.25002, 248.27261, 250.07964, 254.54054, 254.99904, 255.     ,\n",
       "        255.     , 255.     , 255.     , 255.     , 255.     , 254.99974,\n",
       "        252.94008, 214.617  , 233.0465 , 248.10817, 253.5404 , 254.97882,\n",
       "        255.     , 255.     , 255.     , 255.     , 255.     , 255.     ,\n",
       "        255.     , 255.     , 255.     , 255.     ],\n",
       "       [248.25002, 248.27261, 250.07964, 254.54054, 254.99904, 255.     ,\n",
       "        255.     , 255.     , 255.     , 255.     , 255.     , 254.99994,\n",
       "        253.59135, 222.0723 , 244.37408, 254.94528, 254.99901, 254.99998,\n",
       "        255.     , 255.     , 255.     , 255.     , 255.     , 255.     ,\n",
       "        255.     , 255.     , 255.     , 255.     ],\n",
       "       [248.25002, 248.27261, 250.07964, 254.54054, 254.99904, 255.     ,\n",
       "        255.     , 255.     , 255.     , 255.     , 255.     , 254.99995,\n",
       "        253.75832, 221.86697, 241.94484, 254.49791, 254.97368, 254.99982,\n",
       "        255.     , 255.     , 255.     , 255.     , 255.     , 255.     ,\n",
       "        255.     , 255.     , 255.     , 255.     ],\n",
       "       [248.25002, 248.27261, 250.07964, 254.54054, 254.99904, 255.     ,\n",
       "        255.     , 255.     , 255.     , 255.     , 255.     , 254.99986,\n",
       "        253.27179, 208.27196, 207.4646 , 230.74593, 250.27916, 254.86754,\n",
       "        254.99966, 255.     , 255.     , 255.     , 255.     , 255.     ,\n",
       "        255.     , 255.     , 255.     , 255.     ],\n",
       "       [248.25002, 248.27261, 250.07964, 254.54054, 254.99904, 255.     ,\n",
       "        255.     , 255.     , 255.     , 255.     , 255.     , 254.99979,\n",
       "        253.449  , 221.30615, 230.66248, 222.98335, 215.75238, 248.81975,\n",
       "        254.94527, 255.     , 255.     , 255.     , 255.     , 255.     ,\n",
       "        255.     , 255.     , 255.     , 255.     ],\n",
       "       [248.25002, 248.27261, 250.07964, 254.54054, 254.99904, 255.     ,\n",
       "        255.     , 255.     , 255.     , 255.     , 255.     , 254.99998,\n",
       "        254.91356, 253.40993, 254.46696, 252.70349, 225.4052 , 224.2389 ,\n",
       "        253.98555, 254.99986, 255.     , 255.     , 255.     , 255.     ,\n",
       "        255.     , 255.     , 255.     , 255.     ],\n",
       "       [248.25002, 248.27261, 250.07964, 254.54054, 254.99904, 255.     ,\n",
       "        255.     , 255.     , 255.     , 255.     , 255.     , 254.99998,\n",
       "        254.99994, 254.999  , 254.99966, 254.95079, 244.99513, 212.05441,\n",
       "        252.0173 , 254.99957, 255.     , 255.     , 255.     , 255.     ,\n",
       "        255.     , 255.     , 255.     , 255.     ],\n",
       "       [248.25002, 248.27261, 250.07964, 254.54054, 254.99904, 255.     ,\n",
       "        255.     , 255.     , 255.     , 255.     , 254.9981 , 254.85498,\n",
       "        254.808  , 254.99425, 254.99803, 254.6381 , 237.35257, 217.74525,\n",
       "        253.19896, 254.99976, 255.     , 255.     , 255.     , 255.     ,\n",
       "        255.     , 255.     , 255.     , 255.     ],\n",
       "       [248.25002, 248.27261, 250.07964, 254.54054, 254.99904, 255.     ,\n",
       "        255.     , 255.     , 255.     , 255.     , 254.93869, 248.72783,\n",
       "        240.70016, 252.4769 , 252.81595, 241.68298, 211.49416, 240.44981,\n",
       "        254.7984 , 254.99998, 255.     , 255.     , 255.     , 255.     ,\n",
       "        255.     , 255.     , 255.     , 255.     ],\n",
       "       [248.25002, 248.27261, 250.07964, 254.54054, 254.99904, 255.     ,\n",
       "        255.     , 255.     , 255.     , 255.     , 254.95903, 248.5038 ,\n",
       "        213.41212, 210.8435 , 209.10797, 203.7765 , 233.99706, 253.8962 ,\n",
       "        254.99664, 255.     , 255.     , 255.     , 255.     , 255.     ,\n",
       "        255.     , 255.     , 255.     , 255.     ],\n",
       "       [248.25002, 248.27261, 250.07964, 254.54054, 254.99904, 255.     ,\n",
       "        255.     , 255.     , 255.     , 255.     , 254.99928, 254.79118,\n",
       "        250.72086, 241.43895, 239.92903, 248.83476, 254.4059 , 254.99316,\n",
       "        255.     , 255.     , 255.     , 255.     , 255.     , 255.     ,\n",
       "        255.     , 255.     , 255.     , 255.     ],\n",
       "       [248.25002, 248.27261, 250.07964, 254.54054, 254.99904, 255.     ,\n",
       "        255.     , 255.     , 255.     , 255.     , 255.     , 254.9998 ,\n",
       "        254.99173, 254.94493, 254.93498, 254.98761, 254.99968, 255.     ,\n",
       "        255.     , 255.     , 255.     , 255.     , 255.     , 255.     ,\n",
       "        255.     , 255.     , 255.     , 255.     ],\n",
       "       [248.25002, 248.27261, 250.07964, 254.54054, 254.99904, 255.     ,\n",
       "        255.     , 255.     , 255.     , 255.     , 255.     , 255.     ,\n",
       "        255.     , 255.     , 255.     , 255.     , 255.     , 255.     ,\n",
       "        255.     , 255.     , 255.     , 255.     , 255.     , 255.     ,\n",
       "        255.     , 255.     , 255.     , 255.     ],\n",
       "       [248.25002, 248.27261, 250.07964, 254.54054, 254.99904, 255.     ,\n",
       "        255.     , 255.     , 255.     , 255.     , 255.     , 255.     ,\n",
       "        255.     , 255.     , 255.     , 255.     , 255.     , 255.     ,\n",
       "        255.     , 255.     , 255.     , 255.     , 255.     , 255.     ,\n",
       "        255.     , 255.     , 255.     , 255.     ],\n",
       "       [248.25002, 248.27261, 250.07964, 254.54054, 254.99904, 255.     ,\n",
       "        255.     , 255.     , 255.     , 255.     , 255.     , 255.     ,\n",
       "        255.     , 255.     , 255.     , 255.     , 255.     , 255.     ,\n",
       "        255.     , 255.     , 255.     , 255.     , 255.     , 255.     ,\n",
       "        255.     , 255.     , 255.     , 255.     ],\n",
       "       [248.25002, 248.27261, 250.07964, 254.54054, 254.99904, 255.     ,\n",
       "        255.     , 255.     , 255.     , 255.     , 255.     , 255.     ,\n",
       "        255.     , 255.     , 255.     , 255.     , 255.     , 255.     ,\n",
       "        255.     , 255.     , 255.     , 255.     , 255.     , 255.     ,\n",
       "        255.     , 255.     , 255.     , 255.     ],\n",
       "       [248.25002, 248.27261, 250.07964, 254.54054, 254.99904, 255.     ,\n",
       "        255.     , 255.     , 255.     , 255.     , 255.     , 255.     ,\n",
       "        255.     , 255.     , 255.     , 255.     , 255.     , 255.     ,\n",
       "        255.     , 255.     , 255.     , 255.     , 255.     , 255.     ,\n",
       "        255.     , 255.     , 255.     , 255.     ]], dtype=float32)"
      ]
     },
     "execution_count": 135,
     "metadata": {},
     "output_type": "execute_result"
    }
   ],
   "source": [
    "img_resized*255"
   ]
  },
  {
   "cell_type": "code",
   "execution_count": 141,
   "id": "c77889f8",
   "metadata": {},
   "outputs": [
    {
     "data": {
      "text/plain": [
       "<matplotlib.image.AxesImage at 0x1dc100b4cd0>"
      ]
     },
     "execution_count": 141,
     "metadata": {},
     "output_type": "execute_result"
    },
    {
     "data": {
      "image/png": "[encoded data removed]",
      "text/plain": [
       "<Figure size 640x480 with 1 Axes>"
      ]
     },
     "metadata": {},
     "output_type": "display_data"
    }
   ],
   "source": [
    "plt.imshow(X_test[22].reshape((28,28)), cmap=\"binary\")"
   ]
  },
  {
   "cell_type": "code",
   "execution_count": 305,
   "id": "765b6d37",
   "metadata": {},
   "outputs": [
    {
     "data": {
      "text/plain": [
       "(array([   22,    25,    31,    39,    47,    53,    54,    56,    61,\n",
       "           65,    76,    81,    89,    93,   145,   151,   163,   164,\n",
       "          165,   176,   178,   192,   195,   219,   286,   298,   311,\n",
       "          348,   362,   379,   383,   392,   401,   404,   415,   423,\n",
       "          425,   426,   441,   442,   451,   470,   479,   494,   499,\n",
       "          519,   543,   577,   583,   594,   597,   605,   680,   681,\n",
       "          695,   701,   710,   714,   724,   750,   754,   759,   772,\n",
       "          786,   797,   801,   802,   803,   816,   819,   836,   850,\n",
       "          864,   875,   877,   887,   897,   932,   940,   942,   951,\n",
       "          956,   959,   963,  1004,  1027,  1036,  1049,  1074,  1077,\n",
       "         1080,  1131,  1148,  1151,  1170,  1181,  1192,  1196,  1202,\n",
       "         1219,  1225,  1239,  1290,  1301,  1331,  1335,  1379,  1395,\n",
       "         1404,  1429,  1432,  1436,  1444,  1455,  1483,  1487,  1501,\n",
       "         1503,  1520,  1547,  1548,  1553,  1556,  1561,  1565,  1581,\n",
       "         1600,  1603,  1604,  1613,  1614,  1624,  1627,  1640,  1647,\n",
       "         1648,  1650,  1661,  1669,  1670,  1673,  1685,  1697,  1715,\n",
       "         1719,  1727,  1728,  1747,  1803,  1815,  1836,  1851,  1854,\n",
       "         1855,  1857,  1865,  1871,  1897,  1920,  1948,  1965,  1976,\n",
       "         1978,  1979,  2028,  2030,  2056,  2094,  2101,  2106,  2133,\n",
       "         2153,  2175,  2176,  2188,  2195,  2200,  2220,  2271,  2275,\n",
       "         2282,  2294,  2303,  2309,  2323,  2331,  2344,  2354,  2370,\n",
       "         2393,  2395,  2403,  2413,  2414,  2446,  2453,  2461,  2472,\n",
       "         2476,  2477,  2487,  2490,  2492,  2494,  2511,  2529,  2535,\n",
       "         2549,  2550,  2572,  2594,  2609,  2618,  2642,  2652,  2657,\n",
       "         2666,  2693,  2715,  2718,  2726,  2730,  2752,  2753,  2779,\n",
       "         2780,  2792,  2820,  2836,  2846,  2849,  2851,  2870,  2888,\n",
       "         2896,  2911,  2914,  2923,  2947,  2948,  2970,  2971,  2993,\n",
       "         2996,  3006,  3014,  3038,  3060,  3066,  3075,  3091,  3096,\n",
       "         3100,  3107,  3119,  3130,  3149,  3150,  3154,  3164,  3167,\n",
       "         3178,  3187,  3194,  3222,  3230,  3242,  3249,  3257,  3266,\n",
       "         3271,  3277,  3281,  3321,  3336,  3341,  3350,  3365,  3399,\n",
       "         3403,  3407,  3422,  3431,  3432,  3440,  3446,  3449,  3472,\n",
       "         3478,  3479,  3491,  3498,  3499,  3508,  3517,  3523,  3541,\n",
       "         3557,  3570,  3575,  3577,  3582,  3587,  3592,  3594,  3626,\n",
       "         3634,  3636,  3653,  3656,  3697,  3706,  3709,  3718,  3724,\n",
       "         3730,  3738,  3748,  3800,  3811,  3827,  3849,  3851,  3856,\n",
       "         3886,  3896,  3901,  3924,  3926,  3932,  3950,  3959,  3980,\n",
       "         3986,  3987,  4002,  4004,  4006,  4008,  4049,  4055,  4059,\n",
       "         4062,  4063,  4078,  4093,  4099,  4100,  4113,  4114,  4120,\n",
       "         4146,  4159,  4163,  4198,  4211,  4216,  4219,  4224,  4243,\n",
       "         4252,  4254,  4255,  4256,  4265,  4292,  4300,  4303,  4307,\n",
       "         4328,  4339,  4340,  4365,  4371,  4377,  4386,  4402,  4409,\n",
       "         4424,  4426,  4432,  4445,  4449,  4450,  4457,  4483,  4490,\n",
       "         4497,  4504,  4575,  4635,  4644,  4648,  4652,  4657,  4680,\n",
       "         4708,  4724,  4730,  4731,  4744,  4750,  4787,  4799,  4801,\n",
       "         4808,  4828,  4834,  4839,  4841,  4852,  4861,  4873,  4874,\n",
       "         4878,  4882,  4907,  4912,  4928,  4936,  4946,  4965,  4985,\n",
       "         4998,  5014,  5021,  5030,  5039,  5040,  5042,  5058,  5083,\n",
       "         5086,  5111,  5146,  5153,  5155,  5183,  5193,  5209,  5240,\n",
       "         5267,  5278,  5279,  5299,  5309,  5312,  5317,  5318,  5334,\n",
       "         5344,  5345,  5369,  5380,  5393,  5410,  5428,  5433,  5445,\n",
       "         5450,  5465,  5471,  5477,  5486,  5493,  5496,  5507,  5541,\n",
       "         5543,  5546,  5557,  5558,  5559,  5563,  5568,  5607,  5617,\n",
       "         5652,  5667,  5675,  5676,  5683,  5686,  5701,  5709,  5715,\n",
       "         5721,  5777,  5789,  5815,  5832,  5839,  5852,  5854,  5867,\n",
       "         5871,  5878,  5890,  5908,  5913,  5937,  5942,  5985,  5999,\n",
       "         6007,  6014,  6018,  6027,  6045,  6047,  6063,  6064,  6067,\n",
       "         6092,  6109,  6111,  6139,  6150,  6160,  6165,  6188,  6191,\n",
       "         6197,  6203,  6207,  6212,  6217,  6245,  6279,  6288,  6289,\n",
       "         6312,  6319,  6324,  6335,  6342,  6349,  6357,  6366,  6367,\n",
       "         6387,  6390,  6402,  6414,  6416,  6418,  6423,  6424,  6446,\n",
       "         6457,  6464,  6489,  6493,  6513,  6529,  6531,  6541,  6571,\n",
       "         6576,  6582,  6585,  6598,  6609,  6620,  6630,  6646,  6658,\n",
       "         6662,  6695,  6708,  6717,  6718,  6731,  6739,  6741,  6744,\n",
       "         6750,  6753,  6759,  6761,  6774,  6786,  6796,  6800,  6802,\n",
       "         6808,  6819,  6831,  6834,  6838,  6840,  6841,  6846,  6872,\n",
       "         6874,  6883,  6887,  6902,  6935,  6959,  6969,  6971,  6979,\n",
       "         6989,  6992,  7003,  7033,  7045,  7048,  7057,  7079,  7108,\n",
       "         7113,  7120,  7124,  7131,  7166,  7175,  7191,  7203,  7221,\n",
       "         7238,  7252,  7259,  7263,  7279,  7288,  7309,  7349,  7351,\n",
       "         7373,  7382,  7386,  7402,  7405,  7408,  7456,  7472,  7474,\n",
       "         7479,  7487,  7492,  7519,  7530,  7533,  7538,  7548,  7553,\n",
       "         7564,  7567,  7578,  7592,  7617,  7633,  7640,  7641,  7646,\n",
       "         7657,  7677,  7687,  7726,  7731,  7740,  7742,  7744,  7749,\n",
       "         7750,  7767,  7771,  7788,  7791,  7800,  7801,  7805,  7807,\n",
       "         7887,  7891,  7896,  7899,  7906,  7924,  7940,  7954,  7960,\n",
       "         7998,  8035,  8037,  8061,  8071,  8075,  8078,  8082,  8086,\n",
       "         8092,  8098,  8100,  8102,  8109,  8112,  8125,  8127,  8131,\n",
       "         8149,  8162,  8169,  8177,  8221,  8236,  8238,  8264,  8296,\n",
       "         8297,  8335,  8342,  8358,  8363,  8383,  8393,  8414,  8422,\n",
       "         8423,  8439,  8464,  8484,  8493,  8502,  8515,  8519,  8521,\n",
       "         8540,  8620,  8628,  8642,  8643,  8653,  8674,  8693,  8707,\n",
       "         8748,  8754,  8760,  8769,  8787,  8814,  8825,  8837,  8839,\n",
       "         8842,  8848,  8864,  8869,  8870,  8885,  8891,  8896,  8897,\n",
       "         8900,  8908,  8926,  8932,  8937,  8970,  8971,  8985,  9023,\n",
       "         9038,  9049,  9067,  9089,  9093,  9095,  9117,  9119,  9121,\n",
       "         9126,  9132,  9171,  9172,  9180,  9187,  9191,  9192,  9202,\n",
       "         9206,  9219,  9222,  9224,  9228,  9267,  9277,  9309,  9310,\n",
       "         9335,  9336,  9338,  9340,  9347,  9348,  9364,  9370,  9373,\n",
       "         9383,  9387,  9407,  9413,  9419,  9422,  9425,  9427,  9436,\n",
       "         9443,  9449,  9462,  9466,  9481,  9485,  9511,  9519,  9527,\n",
       "         9532,  9534,  9586,  9607,  9616,  9621,  9629,  9652,  9658,\n",
       "         9663,  9672,  9673,  9678,  9683,  9693,  9709,  9715,  9716,\n",
       "         9719,  9720,  9728,  9737,  9742,  9745,  9762,  9779,  9788,\n",
       "         9835,  9841,  9844,  9857,  9885,  9892,  9904,  9919,  9935,\n",
       "         9944,  9945,  9956,  9969,  9976,  9981,  9986,  9987, 10008,\n",
       "        10009, 10017, 10026, 10038, 10045, 10052, 10061, 10067, 10068,\n",
       "        10085, 10089, 10102, 10113, 10126, 10127, 10144, 10160, 10174,\n",
       "        10183, 10186, 10199, 10204, 10208, 10212, 10214, 10223, 10227,\n",
       "        10235, 10237, 10247, 10248, 10282, 10290, 10294, 10300, 10303,\n",
       "        10318, 10339, 10343, 10361, 10363, 10366, 10372, 10379, 10387,\n",
       "        10389, 10391, 10393, 10397, 10403, 10430, 10433, 10444, 10447,\n",
       "        10450, 10465, 10473, 10477, 10486, 10489], dtype=int64),)"
      ]
     },
     "execution_count": 305,
     "metadata": {},
     "output_type": "execute_result"
    }
   ],
   "source": [
    "np.where(y_test==5)"
   ]
  },
  {
   "cell_type": "code",
   "execution_count": 308,
   "id": "a0904298",
   "metadata": {},
   "outputs": [
    {
     "data": {
      "text/plain": [
       "<matplotlib.image.AxesImage at 0x1dc607acbd0>"
      ]
     },
     "execution_count": 308,
     "metadata": {},
     "output_type": "execute_result"
    },
    {
     "data": {
      "image/png": "[encoded data removed]",
      "text/plain": [
       "<Figure size 640x480 with 1 Axes>"
      ]
     },
     "metadata": {},
     "output_type": "display_data"
    }
   ],
   "source": [
    "plt.imshow(X_test[4211].reshape((28,28)))"
   ]
  },
  {
   "cell_type": "code",
   "execution_count": 104,
   "id": "16959b8e",
   "metadata": {},
   "outputs": [
    {
     "data": {
      "text/plain": [
       "(array([   0,    0,    0, ..., 7876, 7876, 7876], dtype=int64),\n",
       " array([158, 159, 160, ..., 656, 657, 784], dtype=int64))"
      ]
     },
     "execution_count": 104,
     "metadata": {},
     "output_type": "execute_result"
    }
   ],
   "source": [
    "np.where(data[data[\"class\"]==1])"
   ]
  },
  {
   "cell_type": "code",
   "execution_count": null,
   "id": "5e913378",
   "metadata": {},
   "outputs": [],
   "source": []
  }
 ],
 "metadata": {
  "kernelspec": {
   "display_name": "Python 3 (ipykernel)",
   "language": "python",
   "name": "python3"
  },
  "language_info": {
   "codemirror_mode": {
    "name": "ipython",
    "version": 3
   },
   "file_extension": ".py",
   "mimetype": "text/x-python",
   "name": "python",
   "nbconvert_exporter": "python",
   "pygments_lexer": "ipython3",
   "version": "3.11.4"
  }
 },
 "nbformat": 4,
 "nbformat_minor": 5
}
