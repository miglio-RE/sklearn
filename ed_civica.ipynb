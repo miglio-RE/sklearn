{
 "cells": [
  {
   "cell_type": "markdown",
   "id": "54c2572e",
   "metadata": {},
   "source": [
    " ## ETICA AI:\n",
    " \n",
    " "
   ]
  },
  {
   "cell_type": "markdown",
   "id": "3657a7a2",
   "metadata": {},
   "source": [
    "preoccupazione che l'ia sia pericolosa. rischio per l'umanità\n",
    "\n",
    "gente competente che dicono cose in maniera motivata. Può esistere in diversi questione etiche:\n",
    "branca della filosofia. cos'è il bene e cos'è il male.\n",
    "come l'ia può influenzare l'etica. non sono gli strumenti a essere cattivi, ma è il nostro intervento che lo dtermina.\n",
    "L'etica riguarda l'uso.\n",
    "\n",
    "Collgamento. AI generative paragonato all'uso dell'energia atomica  nella seconda guerra mondiale. USA ha radunato dei fisici, che scappavano dal nazismo e due laboratori\n",
    "- Chigaco: energia atomica per produrre energia\n",
    "- los alamos: energia atomica per sviluppare armi prima dei nazisti. \n",
    "\n",
    "hanno usato le bombe per far vedere la loro potenza ai russi-> Guerra Fredda e attualità. Contrasto usa e russia, entrambi hanno armi atomiche in grado di estinguere la specie umana. Principio di deterrenza, impedisce di usare armi atomiche. I paesi con armi atoiche non dichiarono mai la guerra, impedisce l'escadescenza\n",
    "l'en atomica può essere usata per scopi benifici e scopi malevoli come l'IA\n",
    "\n",
    "Applicazioni: l'ia fa parte di tanti ambiti:\n",
    "\n",
    "- prendere decisioni a posto autonomo: guida autonoma. Questione: se l'auto investe un pedone, di chi è la colpa\n",
    "    l'auto a guida autonoma ha un modello non esplicabile. Si sta facendo ricerca per sistemi esplicabili\n",
    " filosofa: filippa routh. Dilemma del carrello\n",
    "\n",
    "- ASIMOV: scrittore fantascienza, il ciclo della fondazione, nel 1943 in un racconto di fantascienza si inventa le leggi della robotca. sono 4, svolge le sue storie dove i robot sono presenti nella socirtà. nel cervello positronico i robot hanno le 4 regole non modificabili nel segunte ordine di priorità:\n",
    "1. Un robot non può recar danno a un essere umano né può permettere che, a causa del suo mancato intervento, un essere umano riceva danno.\n",
    "2. Un robot deve obbedire agli ordini impartiti dagli esseri umani, purché tali ordini non vadano in contrasto alla Prima Legge.\n",
    "3. Un robot deve proteggere la propria esistenza, purché la salvaguardia di essa non contrasti con la Prima o con la Seconda Legge\n",
    "\n",
    "Queste leggi tutelano l'uomo come essere singolo. in una società bisogna salvaguradre la comunità, legge 0:\n",
    "\n",
    "0. (aggiunta dopo):  Un robot non può recar danno all'umanità  né può permettere che, a causa del suo mancato intervento, l'umanità riceva danno\n",
    "\n",
    "le leggi sono attineti alla ia e alla robotica. \n",
    "\n",
    "Ora l'ia entra nelle armi. Drone che sceglie chi deve uccidere. \n",
    "\n",
    "Palestina: si usa un algoritmo addestrato su una base enorme di persone chi deve uccidere. Dati anagrifici, telefoniche e residenza, dati polizia: segnalazioni, dati relazionali sulla vita e social. L'ia sceglie che è il terrorista e chi no. Algoritmo usato per uccidere. articolo scritto da israeliani: se il terrorista è importante si tolleravano i costi civili\n",
    "\n",
    "### Conseguenza uso AI:\n",
    "\n",
    "l'ia quando entra nella società può dare un beneficiio, ma può portare a fenomeni  imprevisti e dannosi. Crollo in borsa nel 2010 dovuto ad algoritmi di trading.\n",
    "\n",
    "L'ia può compiere scelte in ambito giuridico. Rispetta il principio della legge che è uguale per tutti? Dipende da dove ha imparato: se ha imparato da dati umani, con pregiudizi. \n",
    "Algoritmi per l'assunzione. Grandi aziende profilano i candidati. Se l'algoritmo ha pregiudizi, ho il rischio scartere dipendenti validi\n",
    "\n",
    "Negli USA si suano ai generative per scrivere sentenze, rischiosos perchè CHATGPT non ha competenze giuridiche."
   ]
  },
  {
   "cell_type": "code",
   "execution_count": null,
   "id": "ce16ab61",
   "metadata": {},
   "outputs": [],
   "source": []
  }
 ],
 "metadata": {
  "kernelspec": {
   "display_name": "Python 3 (ipykernel)",
   "language": "python",
   "name": "python3"
  },
  "language_info": {
   "codemirror_mode": {
    "name": "ipython",
    "version": 3
   },
   "file_extension": ".py",
   "mimetype": "text/x-python",
   "name": "python",
   "nbconvert_exporter": "python",
   "pygments_lexer": "ipython3",
   "version": "3.11.4"
  }
 },
 "nbformat": 4,
 "nbformat_minor": 5
}
