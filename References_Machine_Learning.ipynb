{
 "cells": [
  {
   "cell_type": "code",
   "execution_count": null,
   "id": "b2bfb6c4",
   "metadata": {},
   "outputs": [],
   "source": [
    "import numpy as np \n",
    "import matplotlib.pyplot as plt\n",
    "import pandas as pd\n",
    "from sklearn.linear_model import LinearRegression\n",
    "from sklearn.model_selection import train_test_split\n",
    "from sklearn.neural_network import MLPClassifier\n",
    "from sklearn.preprocessing import LabelEncoder\n",
    "from Funzione_Data2AnalisiGrafica import Data2AnalisiGrafica"
   ]
  },
  {
   "cell_type": "code",
   "execution_count": null,
   "id": "9c9fad31",
   "metadata": {},
   "outputs": [],
   "source": [
    "data = pd.read_csv(\"../FILE/data.csv\", header=None, names=[], # Se non c'è l'intestazione \n",
    "                   na_values=[valoreNull nel DataFrame]) # na_values per i valori nulli\n",
    "data.dropna(inplace=True)\n",
    "data\n",
    "# head()  → primi 5 dati\n",
    "# tail()  → ultimi 5 dati"
   ]
  },
  {
   "cell_type": "code",
   "execution_count": null,
   "id": "a0dd063c",
   "metadata": {},
   "outputs": [],
   "source": [
    "data.info() # per sapere se ci sono valori nulli"
   ]
  },
  {
   "cell_type": "markdown",
   "id": "45d305b6",
   "metadata": {},
   "source": [
    "## Analisi Grafica Feature"
   ]
  },
  {
   "cell_type": "markdown",
   "id": "9d373e10",
   "metadata": {},
   "source": [
    "### Con Funzione ( CONSEGNARE ANCHE LA FUNZIONE! ):"
   ]
  },
  {
   "cell_type": "code",
   "execution_count": null,
   "id": "0b80a0ec",
   "metadata": {},
   "outputs": [],
   "source": [
    "Data2AnalisiGrafica(feature, target, data_puliti)\n",
    "# feature = [\"feature1\", \"feature2\", ...]\n",
    "# target = \"target\"\n",
    "# data_puliti = data[prima le feature, poi target].dropna().values"
   ]
  },
  {
   "cell_type": "markdown",
   "id": "a2d99460",
   "metadata": {},
   "source": [
    "### Senza Funzione (se il target ha pochi valori):"
   ]
  },
  {
   "cell_type": "code",
   "execution_count": null,
   "id": "44730aa6",
   "metadata": {},
   "outputs": [],
   "source": [
    "data.describe() # per ogni feature di ogni valore target possibile\n",
    "for tar in data[target].unique():\n",
    "    print(tar)\n",
    "    dati = data[data[target]==tar]\n",
    "    for col in dati.columns[:-1]:\n",
    "        data[col].describe()"
   ]
  },
  {
   "cell_type": "markdown",
   "id": "cd5f6327",
   "metadata": {},
   "source": [
    "## Pulizia dati\n",
    "\n",
    "Feature:\n",
    "- non devono avere valori nulli\n",
    "- devono essere normalizzate\n",
    "- devono essere numeriche"
   ]
  },
  {
   "cell_type": "markdown",
   "id": "22fcbe40",
   "metadata": {},
   "source": [
    "### Feature qualitativa"
   ]
  },
  {
   "cell_type": "markdown",
   "id": "86dbca89",
   "metadata": {},
   "source": [
    "### Con LabelEncoder()\n",
    "\n",
    "#### Solo alcune feature qualitative (da fare una per ogni feature qualitativa)"
   ]
  },
  {
   "cell_type": "code",
   "execution_count": null,
   "id": "fc550ba3",
   "metadata": {},
   "outputs": [],
   "source": [
    "le_nomeColonna = LabelEncoder()\n",
    "data[\"colonna_numeric\"] = le_nomeColonna.fit_transform(data[\"colonna\"])\n",
    "data"
   ]
  },
  {
   "cell_type": "markdown",
   "id": "95302a60",
   "metadata": {},
   "source": [
    "#### Tutte feature qualitative:"
   ]
  },
  {
   "cell_type": "code",
   "execution_count": null,
   "id": "4f74bd74",
   "metadata": {},
   "outputs": [],
   "source": [
    "data_numerico = data.copy()\n",
    "le_dict = {}\n",
    "for col in data.columns:\n",
    "    le = LabelEncoder() # da fare uno per colonna \n",
    "    colonna_numerica = le.fit_transform(data[col].values)\n",
    "    data_numerico[col] = colonna_numerica\n",
    "    le_dict[col] = le"
   ]
  },
  {
   "cell_type": "markdown",
   "id": "ed6b0b55",
   "metadata": {},
   "source": [
    "### Senza LabelEncoder()"
   ]
  },
  {
   "cell_type": "code",
   "execution_count": null,
   "id": "e8cc1084",
   "metadata": {},
   "outputs": [],
   "source": [
    "modelli_trasmissione = np.unique(data[\"transmission\"])\n",
    "print(modelli_trasmissione)\n",
    "diz_trasmissione={}\n",
    "for i, trasm in enumerate(modelli_trasmissione):\n",
    "    diz_trasmissione[trasm] = i\n",
    "diz_trasmissione"
   ]
  },
  {
   "cell_type": "code",
   "execution_count": null,
   "id": "8125db15",
   "metadata": {},
   "outputs": [],
   "source": [
    "array_trasmissione=[]\n",
    "for trasm in data[\"transmission\"]:\n",
    "    for trasmission in diz_trasmissione:\n",
    "        if trasm == trasmission: \n",
    "            array_trasmissione.append(diz_trasmissione[trasmission])\n",
    "#array_modelli\n",
    "data2[\"trasmissione_numerica\"] = array_trasmissione\n",
    "data2"
   ]
  },
  {
   "cell_type": "markdown",
   "id": "525426e8",
   "metadata": {},
   "source": [
    "## Dropna() e Normalizzazione"
   ]
  },
  {
   "cell_type": "code",
   "execution_count": null,
   "id": "a563533e",
   "metadata": {},
   "outputs": [],
   "source": [
    "X = data[[colonne]].dropna().values #feature\n",
    "X_normalizzate = (X-np.mean(X)) / np.std(X)"
   ]
  },
  {
   "cell_type": "code",
   "execution_count": null,
   "id": "e0ad477f",
   "metadata": {},
   "outputs": [],
   "source": [
    "y = data[[colonna]].dropna().values #target"
   ]
  },
  {
   "cell_type": "markdown",
   "id": "4e0f1f63",
   "metadata": {},
   "source": [
    " ### Regressione Lineare"
   ]
  },
  {
   "cell_type": "code",
   "execution_count": null,
   "id": "b9fd13ec",
   "metadata": {},
   "outputs": [],
   "source": [
    "regression = LinearRegression()"
   ]
  },
  {
   "cell_type": "code",
   "execution_count": null,
   "id": "2f008400",
   "metadata": {},
   "outputs": [],
   "source": [
    "regression.fit(X, y) # nella regressione lineare posso non normalizzare le feature"
   ]
  },
  {
   "cell_type": "code",
   "execution_count": null,
   "id": "a83bab47",
   "metadata": {},
   "outputs": [],
   "source": [
    "regression.predict([[valori feature]])"
   ]
  },
  {
   "cell_type": "code",
   "execution_count": null,
   "id": "a2012998",
   "metadata": {},
   "outputs": [],
   "source": [
    "print(f\"R^2 vale {regression.score(X[:, np.newaxis], y):.2f}\") \n",
    "# Se uso quelle normalizzate aggiungo a X e y → _normalizzzate"
   ]
  },
  {
   "cell_type": "markdown",
   "id": "4d200f29",
   "metadata": {},
   "source": [
    "### Rete neurale"
   ]
  },
  {
   "cell_type": "code",
   "execution_count": null,
   "id": "b12bbfdd",
   "metadata": {},
   "outputs": [],
   "source": [
    "X_train, X_test, y_train, y_test = train_test_split(X_normalizzate, y, train_size=0.7, random_state=0)"
   ]
  },
  {
   "cell_type": "code",
   "execution_count": null,
   "id": "1252b28c",
   "metadata": {},
   "outputs": [],
   "source": [
    "modello = MLPClassifier(hidden_layer_sizes=(15, 15), random_state=1, max_iter=300)"
   ]
  },
  {
   "cell_type": "code",
   "execution_count": null,
   "id": "4cdd7a3a",
   "metadata": {},
   "outputs": [],
   "source": [
    "modello.fit(X_train, y_train)"
   ]
  },
  {
   "cell_type": "code",
   "execution_count": null,
   "id": "575f14e3",
   "metadata": {},
   "outputs": [],
   "source": [
    "print(f'''\n",
    "Accuratezza train: {modello.score(X_train, y_train)},\n",
    "\n",
    "Accuratezza test: {modello.score(X_test, y_test)}\n",
    "''')"
   ]
  },
  {
   "cell_type": "markdown",
   "id": "90075f12",
   "metadata": {},
   "source": [
    "## Esportazione/Importazione di modelli di Machine Learning"
   ]
  },
  {
   "cell_type": "code",
   "execution_count": null,
   "id": "c8f8f17f",
   "metadata": {},
   "outputs": [],
   "source": [
    "dump(regression, 'nome.pkn')"
   ]
  },
  {
   "cell_type": "code",
   "execution_count": null,
   "id": "85934d20",
   "metadata": {},
   "outputs": [],
   "source": [
    "modello_importato=load('nome.pkn')"
   ]
  },
  {
   "cell_type": "markdown",
   "id": "92622fd9",
   "metadata": {},
   "source": [
    "## Grafici Regressioni"
   ]
  },
  {
   "cell_type": "code",
   "execution_count": null,
   "id": "7054d75e",
   "metadata": {},
   "outputs": [],
   "source": [
    "coef_angolare = regressione.coef_[0] #mettiamo [0] perchè lui restituisce un array\n",
    "coef_angolare"
   ]
  },
  {
   "cell_type": "code",
   "execution_count": null,
   "id": "38d40a45",
   "metadata": {},
   "outputs": [],
   "source": [
    "term_noto = regressione.intercept_\n",
    "term_noto"
   ]
  },
  {
   "cell_type": "code",
   "execution_count": null,
   "id": "efc623e8",
   "metadata": {},
   "outputs": [],
   "source": [
    "array_x = np.linspace(-3, 3.8, 100) # Valori nell'intervallo del grafico\n",
    "array_y = coef_angolare * array_x + term_noto\n",
    "\n",
    "fig, ax = plt.subplots(figsize=(6,6))\n",
    "ax.plot(array_x, array_y, color=\"r\", linewidth=2)\n",
    "ax.scatter(X_norm, y_norm, c=\"y\", s=1, alpha=0.5)\n",
    "ax.set_xlabel(\"nome\")\n",
    "ax.set_ylabel(\"nome\")\n",
    "ax.grid()\n",
    "plt.show()"
   ]
  },
  {
   "cell_type": "code",
   "execution_count": null,
   "id": "cf9a5d8f",
   "metadata": {},
   "outputs": [],
   "source": []
  }
 ],
 "metadata": {
  "kernelspec": {
   "display_name": "Python 3 (ipykernel)",
   "language": "python",
   "name": "python3"
  },
  "language_info": {
   "codemirror_mode": {
    "name": "ipython",
    "version": 3
   },
   "file_extension": ".py",
   "mimetype": "text/x-python",
   "name": "python",
   "nbconvert_exporter": "python",
   "pygments_lexer": "ipython3",
   "version": "3.11.5"
  }
 },
 "nbformat": 4,
 "nbformat_minor": 5
}
