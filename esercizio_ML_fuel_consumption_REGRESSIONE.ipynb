{
 "cells": [
  {
   "cell_type": "code",
   "execution_count": 1,
   "id": "fbf3cbfb",
   "metadata": {},
   "outputs": [],
   "source": [
    "import numpy as np\n",
    "import pandas as pd\n",
    "import matplotlib.pyplot as plt\n",
    "from sklearn.linear_model import LinearRegression"
   ]
  },
  {
   "cell_type": "code",
   "execution_count": 3,
   "id": "8753d402",
   "metadata": {},
   "outputs": [],
   "source": [
    "#linear regression: regressione lineare"
   ]
  },
  {
   "cell_type": "markdown",
   "id": "83804518",
   "metadata": {},
   "source": [
    "algoritmo ML che dato il consumo di un auto a benzina ci dice l'emissioni dell'auto. Regressione poichè l'output è un numero"
   ]
  },
  {
   "cell_type": "code",
   "execution_count": 14,
   "id": "312d43cc",
   "metadata": {},
   "outputs": [
    {
     "data": {
      "text/html": [
       "<div>\n",
       "<style scoped>\n",
       "    .dataframe tbody tr th:only-of-type {\n",
       "        vertical-align: middle;\n",
       "    }\n",
       "\n",
       "    .dataframe tbody tr th {\n",
       "        vertical-align: top;\n",
       "    }\n",
       "\n",
       "    .dataframe thead th {\n",
       "        text-align: right;\n",
       "    }\n",
       "</style>\n",
       "<table border=\"1\" class=\"dataframe\">\n",
       "  <thead>\n",
       "    <tr style=\"text-align: right;\">\n",
       "      <th></th>\n",
       "      <th>YEAR</th>\n",
       "      <th>MAKE</th>\n",
       "      <th>MODEL</th>\n",
       "      <th>VEHICLE CLASS</th>\n",
       "      <th>ENGINE SIZE</th>\n",
       "      <th>CYLINDERS</th>\n",
       "      <th>TRANSMISSION</th>\n",
       "      <th>FUEL</th>\n",
       "      <th>FUEL CONSUMPTION</th>\n",
       "      <th>HWY (L/100 KM)</th>\n",
       "      <th>COMB (L/100 KM)</th>\n",
       "      <th>COMB (MPG)</th>\n",
       "      <th>EMISSIONS</th>\n",
       "    </tr>\n",
       "  </thead>\n",
       "  <tbody>\n",
       "    <tr>\n",
       "      <th>0</th>\n",
       "      <td>2000</td>\n",
       "      <td>ACURA</td>\n",
       "      <td>1.6EL</td>\n",
       "      <td>COMPACT</td>\n",
       "      <td>1.6</td>\n",
       "      <td>4</td>\n",
       "      <td>A4</td>\n",
       "      <td>X</td>\n",
       "      <td>9.2</td>\n",
       "      <td>6.7</td>\n",
       "      <td>8.1</td>\n",
       "      <td>35</td>\n",
       "      <td>186</td>\n",
       "    </tr>\n",
       "    <tr>\n",
       "      <th>1</th>\n",
       "      <td>2000</td>\n",
       "      <td>ACURA</td>\n",
       "      <td>1.6EL</td>\n",
       "      <td>COMPACT</td>\n",
       "      <td>1.6</td>\n",
       "      <td>4</td>\n",
       "      <td>M5</td>\n",
       "      <td>X</td>\n",
       "      <td>8.5</td>\n",
       "      <td>6.5</td>\n",
       "      <td>7.6</td>\n",
       "      <td>37</td>\n",
       "      <td>175</td>\n",
       "    </tr>\n",
       "    <tr>\n",
       "      <th>2</th>\n",
       "      <td>2000</td>\n",
       "      <td>ACURA</td>\n",
       "      <td>3.2TL</td>\n",
       "      <td>MID-SIZE</td>\n",
       "      <td>3.2</td>\n",
       "      <td>6</td>\n",
       "      <td>AS5</td>\n",
       "      <td>Z</td>\n",
       "      <td>12.2</td>\n",
       "      <td>7.4</td>\n",
       "      <td>10.0</td>\n",
       "      <td>28</td>\n",
       "      <td>230</td>\n",
       "    </tr>\n",
       "    <tr>\n",
       "      <th>3</th>\n",
       "      <td>2000</td>\n",
       "      <td>ACURA</td>\n",
       "      <td>3.5RL</td>\n",
       "      <td>MID-SIZE</td>\n",
       "      <td>3.5</td>\n",
       "      <td>6</td>\n",
       "      <td>A4</td>\n",
       "      <td>Z</td>\n",
       "      <td>13.4</td>\n",
       "      <td>9.2</td>\n",
       "      <td>11.5</td>\n",
       "      <td>25</td>\n",
       "      <td>264</td>\n",
       "    </tr>\n",
       "    <tr>\n",
       "      <th>4</th>\n",
       "      <td>2000</td>\n",
       "      <td>ACURA</td>\n",
       "      <td>INTEGRA</td>\n",
       "      <td>SUBCOMPACT</td>\n",
       "      <td>1.8</td>\n",
       "      <td>4</td>\n",
       "      <td>A4</td>\n",
       "      <td>X</td>\n",
       "      <td>10.0</td>\n",
       "      <td>7.0</td>\n",
       "      <td>8.6</td>\n",
       "      <td>33</td>\n",
       "      <td>198</td>\n",
       "    </tr>\n",
       "    <tr>\n",
       "      <th>...</th>\n",
       "      <td>...</td>\n",
       "      <td>...</td>\n",
       "      <td>...</td>\n",
       "      <td>...</td>\n",
       "      <td>...</td>\n",
       "      <td>...</td>\n",
       "      <td>...</td>\n",
       "      <td>...</td>\n",
       "      <td>...</td>\n",
       "      <td>...</td>\n",
       "      <td>...</td>\n",
       "      <td>...</td>\n",
       "      <td>...</td>\n",
       "    </tr>\n",
       "    <tr>\n",
       "      <th>22551</th>\n",
       "      <td>2022</td>\n",
       "      <td>VOLVO</td>\n",
       "      <td>XC40 T5 AWD</td>\n",
       "      <td>SUV: SMALL</td>\n",
       "      <td>2.0</td>\n",
       "      <td>4</td>\n",
       "      <td>AS8</td>\n",
       "      <td>Z</td>\n",
       "      <td>10.7</td>\n",
       "      <td>7.7</td>\n",
       "      <td>9.4</td>\n",
       "      <td>30</td>\n",
       "      <td>219</td>\n",
       "    </tr>\n",
       "    <tr>\n",
       "      <th>22552</th>\n",
       "      <td>2022</td>\n",
       "      <td>VOLVO</td>\n",
       "      <td>XC60 B5 AWD</td>\n",
       "      <td>SUV: SMALL</td>\n",
       "      <td>2.0</td>\n",
       "      <td>4</td>\n",
       "      <td>AS8</td>\n",
       "      <td>Z</td>\n",
       "      <td>10.5</td>\n",
       "      <td>8.1</td>\n",
       "      <td>9.4</td>\n",
       "      <td>30</td>\n",
       "      <td>219</td>\n",
       "    </tr>\n",
       "    <tr>\n",
       "      <th>22553</th>\n",
       "      <td>2022</td>\n",
       "      <td>VOLVO</td>\n",
       "      <td>XC60 B6 AWD</td>\n",
       "      <td>SUV: SMALL</td>\n",
       "      <td>2.0</td>\n",
       "      <td>4</td>\n",
       "      <td>AS8</td>\n",
       "      <td>Z</td>\n",
       "      <td>11.0</td>\n",
       "      <td>8.7</td>\n",
       "      <td>9.9</td>\n",
       "      <td>29</td>\n",
       "      <td>232</td>\n",
       "    </tr>\n",
       "    <tr>\n",
       "      <th>22554</th>\n",
       "      <td>2022</td>\n",
       "      <td>VOLVO</td>\n",
       "      <td>XC90 T5 AWD</td>\n",
       "      <td>SUV: STANDARD</td>\n",
       "      <td>2.0</td>\n",
       "      <td>4</td>\n",
       "      <td>AS8</td>\n",
       "      <td>Z</td>\n",
       "      <td>11.5</td>\n",
       "      <td>8.4</td>\n",
       "      <td>10.1</td>\n",
       "      <td>28</td>\n",
       "      <td>236</td>\n",
       "    </tr>\n",
       "    <tr>\n",
       "      <th>22555</th>\n",
       "      <td>2022</td>\n",
       "      <td>VOLVO</td>\n",
       "      <td>XC90 T6 AWD</td>\n",
       "      <td>SUV: STANDARD</td>\n",
       "      <td>2.0</td>\n",
       "      <td>4</td>\n",
       "      <td>AS8</td>\n",
       "      <td>Z</td>\n",
       "      <td>12.4</td>\n",
       "      <td>8.9</td>\n",
       "      <td>10.8</td>\n",
       "      <td>26</td>\n",
       "      <td>252</td>\n",
       "    </tr>\n",
       "  </tbody>\n",
       "</table>\n",
       "<p>22556 rows × 13 columns</p>\n",
       "</div>"
      ],
      "text/plain": [
       "       YEAR   MAKE        MODEL  VEHICLE CLASS  ENGINE SIZE  CYLINDERS  \\\n",
       "0      2000  ACURA        1.6EL        COMPACT          1.6          4   \n",
       "1      2000  ACURA        1.6EL        COMPACT          1.6          4   \n",
       "2      2000  ACURA        3.2TL       MID-SIZE          3.2          6   \n",
       "3      2000  ACURA        3.5RL       MID-SIZE          3.5          6   \n",
       "4      2000  ACURA      INTEGRA     SUBCOMPACT          1.8          4   \n",
       "...     ...    ...          ...            ...          ...        ...   \n",
       "22551  2022  VOLVO  XC40 T5 AWD     SUV: SMALL          2.0          4   \n",
       "22552  2022  VOLVO  XC60 B5 AWD     SUV: SMALL          2.0          4   \n",
       "22553  2022  VOLVO  XC60 B6 AWD     SUV: SMALL          2.0          4   \n",
       "22554  2022  VOLVO  XC90 T5 AWD  SUV: STANDARD          2.0          4   \n",
       "22555  2022  VOLVO  XC90 T6 AWD  SUV: STANDARD          2.0          4   \n",
       "\n",
       "      TRANSMISSION FUEL  FUEL CONSUMPTION  HWY (L/100 KM)  COMB (L/100 KM)  \\\n",
       "0               A4    X               9.2             6.7              8.1   \n",
       "1               M5    X               8.5             6.5              7.6   \n",
       "2              AS5    Z              12.2             7.4             10.0   \n",
       "3               A4    Z              13.4             9.2             11.5   \n",
       "4               A4    X              10.0             7.0              8.6   \n",
       "...            ...  ...               ...             ...              ...   \n",
       "22551          AS8    Z              10.7             7.7              9.4   \n",
       "22552          AS8    Z              10.5             8.1              9.4   \n",
       "22553          AS8    Z              11.0             8.7              9.9   \n",
       "22554          AS8    Z              11.5             8.4             10.1   \n",
       "22555          AS8    Z              12.4             8.9             10.8   \n",
       "\n",
       "       COMB (MPG)  EMISSIONS  \n",
       "0              35        186  \n",
       "1              37        175  \n",
       "2              28        230  \n",
       "3              25        264  \n",
       "4              33        198  \n",
       "...           ...        ...  \n",
       "22551          30        219  \n",
       "22552          30        219  \n",
       "22553          29        232  \n",
       "22554          28        236  \n",
       "22555          26        252  \n",
       "\n",
       "[22556 rows x 13 columns]"
      ]
     },
     "execution_count": 14,
     "metadata": {},
     "output_type": "execute_result"
    }
   ],
   "source": [
    "dati=pd.read_csv(\"./Fuel_Consumption_2000-2022 - Copia.csv\")#solo auto a benzima (X)\n",
    "dati"
   ]
  },
  {
   "cell_type": "code",
   "execution_count": 16,
   "id": "6fe88b2e",
   "metadata": {},
   "outputs": [
    {
     "data": {
      "text/plain": [
       "array([[  9.2, 186. ],\n",
       "       [  8.5, 175. ],\n",
       "       [ 10. , 198. ],\n",
       "       ...,\n",
       "       [ 10.6, 222. ],\n",
       "       [ 11. , 229. ],\n",
       "       [ 10.7, 217. ]])"
      ]
     },
     "execution_count": 16,
     "metadata": {},
     "output_type": "execute_result"
    }
   ],
   "source": [
    "dati_np=dati[dati[\"FUEL\"]==\"X\"][[\"FUEL CONSUMPTION\", \"EMISSIONS\"]].values#solo queste due colonne\n",
    "dati_np"
   ]
  },
  {
   "cell_type": "markdown",
   "id": "73737f32",
   "metadata": {},
   "source": [
    "- feature: FUEL CONSUMPTION\n",
    "- target: FUEL\n",
    "non facciamo lo split perchè lo capiamo dai grafici con l'analisi grafica e r^2"
   ]
  },
  {
   "cell_type": "code",
   "execution_count": 17,
   "id": "8a382617",
   "metadata": {},
   "outputs": [],
   "source": [
    "X=dati_np[:,0]\n",
    "y=dati_np[:, 1]"
   ]
  },
  {
   "cell_type": "code",
   "execution_count": 21,
   "id": "773b36c0",
   "metadata": {},
   "outputs": [
    {
     "data": {
      "text/plain": [
       "Text(0, 0.5, 'emissioni CO2')"
      ]
     },
     "execution_count": 21,
     "metadata": {},
     "output_type": "execute_result"
    },
    {
     "data": {
      "image/png": "[encoded data removed]",
      "text/plain": [
       "<Figure size 400x400 with 1 Axes>"
      ]
     },
     "metadata": {},
     "output_type": "display_data"
    }
   ],
   "source": [
    "fig, ax=plt.subplots(figsize=(4,4))\n",
    "ax.scatter(X, y, c=\"k\", alpha=0.5)\n",
    "ax.set_xlabel(\"consumi\")\n",
    "ax.set_ylabel(\"emissioni CO2\")\n",
    "#è possibile fare una regressione perchè l'andamento è riconducibile alla retta"
   ]
  },
  {
   "cell_type": "code",
   "execution_count": 24,
   "id": "09c0d847",
   "metadata": {},
   "outputs": [],
   "source": [
    "X_norm=(X-np.mean(X))/np.std(X)\n",
    "y_norm=(y-np.mean(y))/np.std(y)"
   ]
  },
  {
   "cell_type": "code",
   "execution_count": 28,
   "id": "d0b2fa5f",
   "metadata": {},
   "outputs": [
    {
     "data": {
      "image/png": "[encoded data removed]",
      "text/plain": [
       "<Figure size 400x400 with 1 Axes>"
      ]
     },
     "metadata": {},
     "output_type": "display_data"
    }
   ],
   "source": [
    "fig, ax=plt.subplots(figsize=(4,4))\n",
    "ax.scatter(X_norm, y_norm, c=\"k\", alpha=0.5)\n",
    "ax.set_xlabel(\"consumi carburante normalizzato\")\n",
    "ax.set_ylabel(\"emissioni CO2 normalizzato\")\n",
    "ax.grid()\n",
    "plt.show()"
   ]
  },
  {
   "cell_type": "markdown",
   "id": "e462a1fd",
   "metadata": {},
   "source": [
    "se normalizziamo le feature otteniamo una retta che passa per l'origine e ha un m=1"
   ]
  },
  {
   "cell_type": "code",
   "execution_count": 30,
   "id": "af5a77c1",
   "metadata": {},
   "outputs": [
    {
     "data": {
      "text/plain": [
       "array([[-0.88597673],\n",
       "       [-1.11580616],\n",
       "       [-0.62331452],\n",
       "       ...,\n",
       "       [-0.42631786],\n",
       "       [-0.29498675],\n",
       "       [-0.39348508]])"
      ]
     },
     "execution_count": 30,
     "metadata": {},
     "output_type": "execute_result"
    }
   ],
   "source": [
    "X_norm[:, np.newaxis]#array di una colonna"
   ]
  },
  {
   "cell_type": "code",
   "execution_count": 31,
   "id": "61d405a4",
   "metadata": {},
   "outputs": [
    {
     "data": {
      "text/html": [
       "<style>#sk-container-id-1 {color: black;}#sk-container-id-1 pre{padding: 0;}#sk-container-id-1 div.sk-toggleable {background-color: white;}#sk-container-id-1 label.sk-toggleable__label {cursor: pointer;display: block;width: 100%;margin-bottom: 0;padding: 0.3em;box-sizing: border-box;text-align: center;}#sk-container-id-1 label.sk-toggleable__label-arrow:before {content: \"▸\";float: left;margin-right: 0.25em;color: #696969;}#sk-container-id-1 label.sk-toggleable__label-arrow:hover:before {color: black;}#sk-container-id-1 div.sk-estimator:hover label.sk-toggleable__label-arrow:before {color: black;}#sk-container-id-1 div.sk-toggleable__content {max-height: 0;max-width: 0;overflow: hidden;text-align: left;background-color: #f0f8ff;}#sk-container-id-1 div.sk-toggleable__content pre {margin: 0.2em;color: black;border-radius: 0.25em;background-color: #f0f8ff;}#sk-container-id-1 input.sk-toggleable__control:checked~div.sk-toggleable__content {max-height: 200px;max-width: 100%;overflow: auto;}#sk-container-id-1 input.sk-toggleable__control:checked~label.sk-toggleable__label-arrow:before {content: \"▾\";}#sk-container-id-1 div.sk-estimator input.sk-toggleable__control:checked~label.sk-toggleable__label {background-color: #d4ebff;}#sk-container-id-1 div.sk-label input.sk-toggleable__control:checked~label.sk-toggleable__label {background-color: #d4ebff;}#sk-container-id-1 input.sk-hidden--visually {border: 0;clip: rect(1px 1px 1px 1px);clip: rect(1px, 1px, 1px, 1px);height: 1px;margin: -1px;overflow: hidden;padding: 0;position: absolute;width: 1px;}#sk-container-id-1 div.sk-estimator {font-family: monospace;background-color: #f0f8ff;border: 1px dotted black;border-radius: 0.25em;box-sizing: border-box;margin-bottom: 0.5em;}#sk-container-id-1 div.sk-estimator:hover {background-color: #d4ebff;}#sk-container-id-1 div.sk-parallel-item::after {content: \"\";width: 100%;border-bottom: 1px solid gray;flex-grow: 1;}#sk-container-id-1 div.sk-label:hover label.sk-toggleable__label {background-color: #d4ebff;}#sk-container-id-1 div.sk-serial::before {content: \"\";position: absolute;border-left: 1px solid gray;box-sizing: border-box;top: 0;bottom: 0;left: 50%;z-index: 0;}#sk-container-id-1 div.sk-serial {display: flex;flex-direction: column;align-items: center;background-color: white;padding-right: 0.2em;padding-left: 0.2em;position: relative;}#sk-container-id-1 div.sk-item {position: relative;z-index: 1;}#sk-container-id-1 div.sk-parallel {display: flex;align-items: stretch;justify-content: center;background-color: white;position: relative;}#sk-container-id-1 div.sk-item::before, #sk-container-id-1 div.sk-parallel-item::before {content: \"\";position: absolute;border-left: 1px solid gray;box-sizing: border-box;top: 0;bottom: 0;left: 50%;z-index: -1;}#sk-container-id-1 div.sk-parallel-item {display: flex;flex-direction: column;z-index: 1;position: relative;background-color: white;}#sk-container-id-1 div.sk-parallel-item:first-child::after {align-self: flex-end;width: 50%;}#sk-container-id-1 div.sk-parallel-item:last-child::after {align-self: flex-start;width: 50%;}#sk-container-id-1 div.sk-parallel-item:only-child::after {width: 0;}#sk-container-id-1 div.sk-dashed-wrapped {border: 1px dashed gray;margin: 0 0.4em 0.5em 0.4em;box-sizing: border-box;padding-bottom: 0.4em;background-color: white;}#sk-container-id-1 div.sk-label label {font-family: monospace;font-weight: bold;display: inline-block;line-height: 1.2em;}#sk-container-id-1 div.sk-label-container {text-align: center;}#sk-container-id-1 div.sk-container {/* jupyter's `normalize.less` sets `[hidden] { display: none; }` but bootstrap.min.css set `[hidden] { display: none !important; }` so we also need the `!important` here to be able to override the default hidden behavior on the sphinx rendered scikit-learn.org. See: https://github.com/scikit-learn/scikit-learn/issues/21755 */display: inline-block !important;position: relative;}#sk-container-id-1 div.sk-text-repr-fallback {display: none;}</style><div id=\"sk-container-id-1\" class=\"sk-top-container\"><div class=\"sk-text-repr-fallback\"><pre>LinearRegression()</pre><b>In a Jupyter environment, please rerun this cell to show the HTML representation or trust the notebook. <br />On GitHub, the HTML representation is unable to render, please try loading this page with nbviewer.org.</b></div><div class=\"sk-container\" hidden><div class=\"sk-item\"><div class=\"sk-estimator sk-toggleable\"><input class=\"sk-toggleable__control sk-hidden--visually\" id=\"sk-estimator-id-1\" type=\"checkbox\" checked><label for=\"sk-estimator-id-1\" class=\"sk-toggleable__label sk-toggleable__label-arrow\">LinearRegression</label><div class=\"sk-toggleable__content\"><pre>LinearRegression()</pre></div></div></div></div></div>"
      ],
      "text/plain": [
       "LinearRegression()"
      ]
     },
     "execution_count": 31,
     "metadata": {},
     "output_type": "execute_result"
    }
   ],
   "source": [
    "regressione=LinearRegression()\n",
    "regressione.fit(X_norm[:, np.newaxis], y_norm)#realizza l'apprendimento come la classificazione"
   ]
  },
  {
   "cell_type": "markdown",
   "id": "20f69240",
   "metadata": {},
   "source": [
    "fit è lo stesso dei modelli di ML, normalmente ha un target y che è un array di numeri se è una gressione e una di classi se è un classificatore e X_norm è una matrice, ma noi abbiamo ua sola variabile. Dobbiamo trasformarlo"
   ]
  },
  {
   "cell_type": "code",
   "execution_count": 37,
   "id": "3153ab54",
   "metadata": {},
   "outputs": [
    {
     "name": "stdout",
     "output_type": "stream",
     "text": [
      "R^2 vale: 0.98\n"
     ]
    }
   ],
   "source": [
    "print(f\"R^2 vale: {regressione.score(X_norm[:, np.newaxis], y_norm):.2f}\")#stessi parametri di fit"
   ]
  },
  {
   "cell_type": "code",
   "execution_count": 39,
   "id": "68de89b8",
   "metadata": {},
   "outputs": [
    {
     "data": {
      "text/plain": [
       "array([0.98990009])"
      ]
     },
     "execution_count": 39,
     "metadata": {},
     "output_type": "execute_result"
    }
   ],
   "source": [
    "#calcolo il coefficiente angolare: attributo che restituisce m\n",
    "m=regressione.coef_\n",
    "m"
   ]
  },
  {
   "cell_type": "markdown",
   "id": "20005bb1",
   "metadata": {},
   "source": [
    "mi restituisce un array perchè posso avere più parametri nel caso di un iperpiano"
   ]
  },
  {
   "cell_type": "code",
   "execution_count": 41,
   "id": "3f1bb4d3",
   "metadata": {},
   "outputs": [
    {
     "data": {
      "text/plain": [
       "1.9539097327006396e-16"
      ]
     },
     "execution_count": 41,
     "metadata": {},
     "output_type": "execute_result"
    }
   ],
   "source": [
    "q=regressione.intercept_\n",
    "q"
   ]
  },
  {
   "cell_type": "code",
   "execution_count": 46,
   "id": "51744c50",
   "metadata": {},
   "outputs": [
    {
     "data": {
      "image/png": "[encoded data removed]",
      "text/plain": [
       "<Figure size 400x400 with 1 Axes>"
      ]
     },
     "metadata": {},
     "output_type": "display_data"
    }
   ],
   "source": [
    "array_x=np.linspace(-3, 3, 100)\n",
    "array_y=m*array_x+q\n",
    "fig, ax=plt.subplots(figsize=(4,4))\n",
    "ax.scatter(X_norm, y_norm, c=\"k\", alpha=0.5)\n",
    "ax.plot(array_x, array_y, c=\"r\",)\n",
    "\n",
    "ax.set_xlabel(\"consumi carburante normalizzato\")\n",
    "ax.set_ylabel(\"emissioni CO2 normalizzato\")\n",
    "ax.grid()\n",
    "plt.show()"
   ]
  },
  {
   "cell_type": "code",
   "execution_count": 48,
   "id": "c09488a2",
   "metadata": {},
   "outputs": [
    {
     "data": {
      "text/plain": [
       "-1.9366255793192015"
      ]
     },
     "execution_count": 48,
     "metadata": {},
     "output_type": "execute_result"
    }
   ],
   "source": [
    "consumo=6 #emissioni per questo consumo\n",
    "#la retta l'ho calcolato la feature normalizzata, devo normalizzare anche il consumo\n",
    "consumo_norm=(consumo- np.mean(X))/np.std(X)\n",
    "consumo_norm"
   ]
  },
  {
   "cell_type": "code",
   "execution_count": 49,
   "id": "476c5bbe",
   "metadata": {},
   "outputs": [
    {
     "data": {
      "text/plain": [
       "array([-1.91706583])"
      ]
     },
     "execution_count": 49,
     "metadata": {},
     "output_type": "execute_result"
    }
   ],
   "source": [
    "emissioni_norm=m*consumo_norm+q\n",
    "emissioni_norm"
   ]
  },
  {
   "cell_type": "code",
   "execution_count": 54,
   "id": "801f2625",
   "metadata": {},
   "outputs": [
    {
     "data": {
      "text/plain": [
       "array([-1.91706583])"
      ]
     },
     "execution_count": 54,
     "metadata": {},
     "output_type": "execute_result"
    }
   ],
   "source": [
    "#alternativa: predict\n",
    "regressione.predict([[consumo_norm]])"
   ]
  },
  {
   "cell_type": "markdown",
   "id": "4e2d203f",
   "metadata": {},
   "source": [
    "devo fare l'inverso della normalizzazione:"
   ]
  },
  {
   "cell_type": "code",
   "execution_count": 55,
   "id": "9ccc6f33",
   "metadata": {},
   "outputs": [
    {
     "data": {
      "text/plain": [
       "array([126.55090644])"
      ]
     },
     "execution_count": 55,
     "metadata": {},
     "output_type": "execute_result"
    }
   ],
   "source": [
    "emissioni_norm*np.std(y)+ np.mean(y)"
   ]
  },
  {
   "cell_type": "markdown",
   "id": "60d8ec74",
   "metadata": {},
   "source": [
    "### Regressione senza normalizzare:\n"
   ]
  },
  {
   "cell_type": "code",
   "execution_count": 56,
   "id": "2e70e4d6",
   "metadata": {},
   "outputs": [
    {
     "data": {
      "text/html": [
       "<style>#sk-container-id-2 {color: black;}#sk-container-id-2 pre{padding: 0;}#sk-container-id-2 div.sk-toggleable {background-color: white;}#sk-container-id-2 label.sk-toggleable__label {cursor: pointer;display: block;width: 100%;margin-bottom: 0;padding: 0.3em;box-sizing: border-box;text-align: center;}#sk-container-id-2 label.sk-toggleable__label-arrow:before {content: \"▸\";float: left;margin-right: 0.25em;color: #696969;}#sk-container-id-2 label.sk-toggleable__label-arrow:hover:before {color: black;}#sk-container-id-2 div.sk-estimator:hover label.sk-toggleable__label-arrow:before {color: black;}#sk-container-id-2 div.sk-toggleable__content {max-height: 0;max-width: 0;overflow: hidden;text-align: left;background-color: #f0f8ff;}#sk-container-id-2 div.sk-toggleable__content pre {margin: 0.2em;color: black;border-radius: 0.25em;background-color: #f0f8ff;}#sk-container-id-2 input.sk-toggleable__control:checked~div.sk-toggleable__content {max-height: 200px;max-width: 100%;overflow: auto;}#sk-container-id-2 input.sk-toggleable__control:checked~label.sk-toggleable__label-arrow:before {content: \"▾\";}#sk-container-id-2 div.sk-estimator input.sk-toggleable__control:checked~label.sk-toggleable__label {background-color: #d4ebff;}#sk-container-id-2 div.sk-label input.sk-toggleable__control:checked~label.sk-toggleable__label {background-color: #d4ebff;}#sk-container-id-2 input.sk-hidden--visually {border: 0;clip: rect(1px 1px 1px 1px);clip: rect(1px, 1px, 1px, 1px);height: 1px;margin: -1px;overflow: hidden;padding: 0;position: absolute;width: 1px;}#sk-container-id-2 div.sk-estimator {font-family: monospace;background-color: #f0f8ff;border: 1px dotted black;border-radius: 0.25em;box-sizing: border-box;margin-bottom: 0.5em;}#sk-container-id-2 div.sk-estimator:hover {background-color: #d4ebff;}#sk-container-id-2 div.sk-parallel-item::after {content: \"\";width: 100%;border-bottom: 1px solid gray;flex-grow: 1;}#sk-container-id-2 div.sk-label:hover label.sk-toggleable__label {background-color: #d4ebff;}#sk-container-id-2 div.sk-serial::before {content: \"\";position: absolute;border-left: 1px solid gray;box-sizing: border-box;top: 0;bottom: 0;left: 50%;z-index: 0;}#sk-container-id-2 div.sk-serial {display: flex;flex-direction: column;align-items: center;background-color: white;padding-right: 0.2em;padding-left: 0.2em;position: relative;}#sk-container-id-2 div.sk-item {position: relative;z-index: 1;}#sk-container-id-2 div.sk-parallel {display: flex;align-items: stretch;justify-content: center;background-color: white;position: relative;}#sk-container-id-2 div.sk-item::before, #sk-container-id-2 div.sk-parallel-item::before {content: \"\";position: absolute;border-left: 1px solid gray;box-sizing: border-box;top: 0;bottom: 0;left: 50%;z-index: -1;}#sk-container-id-2 div.sk-parallel-item {display: flex;flex-direction: column;z-index: 1;position: relative;background-color: white;}#sk-container-id-2 div.sk-parallel-item:first-child::after {align-self: flex-end;width: 50%;}#sk-container-id-2 div.sk-parallel-item:last-child::after {align-self: flex-start;width: 50%;}#sk-container-id-2 div.sk-parallel-item:only-child::after {width: 0;}#sk-container-id-2 div.sk-dashed-wrapped {border: 1px dashed gray;margin: 0 0.4em 0.5em 0.4em;box-sizing: border-box;padding-bottom: 0.4em;background-color: white;}#sk-container-id-2 div.sk-label label {font-family: monospace;font-weight: bold;display: inline-block;line-height: 1.2em;}#sk-container-id-2 div.sk-label-container {text-align: center;}#sk-container-id-2 div.sk-container {/* jupyter's `normalize.less` sets `[hidden] { display: none; }` but bootstrap.min.css set `[hidden] { display: none !important; }` so we also need the `!important` here to be able to override the default hidden behavior on the sphinx rendered scikit-learn.org. See: https://github.com/scikit-learn/scikit-learn/issues/21755 */display: inline-block !important;position: relative;}#sk-container-id-2 div.sk-text-repr-fallback {display: none;}</style><div id=\"sk-container-id-2\" class=\"sk-top-container\"><div class=\"sk-text-repr-fallback\"><pre>LinearRegression()</pre><b>In a Jupyter environment, please rerun this cell to show the HTML representation or trust the notebook. <br />On GitHub, the HTML representation is unable to render, please try loading this page with nbviewer.org.</b></div><div class=\"sk-container\" hidden><div class=\"sk-item\"><div class=\"sk-estimator sk-toggleable\"><input class=\"sk-toggleable__control sk-hidden--visually\" id=\"sk-estimator-id-2\" type=\"checkbox\" checked><label for=\"sk-estimator-id-2\" class=\"sk-toggleable__label sk-toggleable__label-arrow\">LinearRegression</label><div class=\"sk-toggleable__content\"><pre>LinearRegression()</pre></div></div></div></div></div>"
      ],
      "text/plain": [
       "LinearRegression()"
      ]
     },
     "execution_count": 56,
     "metadata": {},
     "output_type": "execute_result"
    }
   ],
   "source": [
    "regressione_no_norm=LinearRegression()\n",
    "regressione_no_norm.fit(X[:, np.newaxis], y)"
   ]
  },
  {
   "cell_type": "code",
   "execution_count": 57,
   "id": "2d2b9f4a",
   "metadata": {},
   "outputs": [
    {
     "name": "stdout",
     "output_type": "stream",
     "text": [
      "R^2 vale: 0.98\n"
     ]
    }
   ],
   "source": [
    "print(f\"R^2 vale: {regressione_no_norm.score(X[:, np.newaxis], y):.2f}\")#stessi parametri di fit"
   ]
  },
  {
   "cell_type": "code",
   "execution_count": 60,
   "id": "cea8100d",
   "metadata": {},
   "outputs": [
    {
     "data": {
      "text/plain": [
       "array([19.28130306])"
      ]
     },
     "execution_count": 60,
     "metadata": {},
     "output_type": "execute_result"
    }
   ],
   "source": [
    "m_no_norm=regressione_no_norm.coef_\n",
    "m_no_norm"
   ]
  },
  {
   "cell_type": "code",
   "execution_count": 61,
   "id": "1642729d",
   "metadata": {},
   "outputs": [
    {
     "data": {
      "text/plain": [
       "10.863088097226836"
      ]
     },
     "execution_count": 61,
     "metadata": {},
     "output_type": "execute_result"
    }
   ],
   "source": [
    "q_no_norm=regressione_no_norm.intercept_\n",
    "q_no_norm"
   ]
  },
  {
   "cell_type": "markdown",
   "id": "96f03cf5",
   "metadata": {},
   "source": [
    "emissioni si possono approssimate\n",
    "$e=19,28*c+10,86$ le emissioni dipendono dai consumi secondo questa formula"
   ]
  },
  {
   "cell_type": "code",
   "execution_count": 67,
   "id": "c86a7bd1",
   "metadata": {},
   "outputs": [
    {
     "data": {
      "image/png": "[encoded data removed]",
      "text/plain": [
       "<Figure size 400x400 with 1 Axes>"
      ]
     },
     "metadata": {},
     "output_type": "display_data"
    }
   ],
   "source": [
    "array_x=np.linspace(2, 25, 100)\n",
    "array_y=m_no_norm*array_x+q_no_norm\n",
    "fig, ax=plt.subplots(figsize=(4,4))\n",
    "ax.scatter(X, y, c=\"k\", alpha=0.5, s=1)\n",
    "ax.plot(array_x, array_y, c=\"r\",linewidth=2)\n",
    "\n",
    "ax.set_xlabel(\"consumi carburante \")\n",
    "ax.set_ylabel(\"emissioni CO2 \")\n",
    "ax.grid()\n",
    "plt.show()"
   ]
  },
  {
   "cell_type": "code",
   "execution_count": null,
   "id": "11859f5e",
   "metadata": {},
   "outputs": [],
   "source": []
  }
 ],
 "metadata": {
  "kernelspec": {
   "display_name": "Python 3 (ipykernel)",
   "language": "python",
   "name": "python3"
  },
  "language_info": {
   "codemirror_mode": {
    "name": "ipython",
    "version": 3
   },
   "file_extension": ".py",
   "mimetype": "text/x-python",
   "name": "python",
   "nbconvert_exporter": "python",
   "pygments_lexer": "ipython3",
   "version": "3.11.4"
  }
 },
 "nbformat": 4,
 "nbformat_minor": 5
}
